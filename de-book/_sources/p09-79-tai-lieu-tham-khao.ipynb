{
 "cells": [
  {
   "cell_type": "markdown",
   "metadata": {},
   "source": [
    "# Tài liệu tham khảo\n",
    "\n",
    "- Microsoft SQL Bible\n",
    "- [SQL Vietjack](http://vietjack.com/sql/)\n",
    "- [MSSQL tips](https://www.mssqltips.com/sqlservertutorial/172/reducing-amount-of-network-data-for-sql-server-stored-procedures/)\n",
    "- Practical SQL Queries for MS SQL Server 2008\n",
    "- [SQL Hints](http://sqlhints.com/all-articles/)\n",
    "- http://sqlhints.com/2015/06/21/looping-through-table-records-in-sql-server/\n",
    "\n",
    "**Lưu ý**:\n",
    "\n",
    "- Dữ liệu ví dụ được lấy từ DB AdventureWorks2012, scritp learnsql và WideWorldImporters\n"
   ]
  }
 ],
 "metadata": {
  "anaconda-cloud": "",
  "kernelspec": {
   "display_name": "R",
   "langauge": "R",
   "name": "ir"
  },
  "language_info": {
   "codemirror_mode": "r",
   "file_extension": ".r",
   "mimetype": "text/x-r-source",
   "name": "R",
   "pygments_lexer": "r",
   "version": "3.4.1"
  }
 },
 "nbformat": 4,
 "nbformat_minor": 1
}
