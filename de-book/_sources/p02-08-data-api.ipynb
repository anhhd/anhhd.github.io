{
 "cells": [
  {
   "cell_type": "markdown",
   "id": "76176a82",
   "metadata": {},
   "source": [
    "# Serving data"
   ]
  },
  {
   "cell_type": "markdown",
   "id": "2075ff78",
   "metadata": {},
   "source": [
    "## API"
   ]
  },
  {
   "cell_type": "markdown",
   "id": "8a575c4e",
   "metadata": {},
   "source": [
    "Bên cạnh các cách cung cấp dữ liệu truyền thống dạng bảng hoặc file, ta có thể cung cấp dữ liệu hỗ trợ API như sau:\n",
    "\n",
    "- Tạo server app hỗ trợ serving API với `uvicorn` & `fastapi`\n",
    "- Sử dụng và khai thác dữ liệu qua API"
   ]
  },
  {
   "cell_type": "markdown",
   "id": "6a4e2f72",
   "metadata": {},
   "source": [
    "### Tạo API"
   ]
  },
  {
   "cell_type": "markdown",
   "id": "5f0d036c",
   "metadata": {},
   "source": [
    "**Bước 1**: Tạo file `main_data_api.py`"
   ]
  },
  {
   "cell_type": "markdown",
   "id": "5e235bee",
   "metadata": {},
   "source": [
    "```python\n",
    "from fastapi import FastAPI, HTTPException, Body\n",
    "from typing import Dict, Any\n",
    "import polars as pl\n",
    "\n",
    "#%%\n",
    "df = pl.DataFrame({\n",
    "    \"id\"   : [1, 2, 3, 4],\n",
    "    \"age\"  : [25, 30, 35, 40],\n",
    "    \"name\": [\"Alice\", \"Bob\", \"Charlie\", \"David\"]\n",
    "})\n",
    "\n",
    "#%%\n",
    "app = FastAPI()\n",
    "\n",
    "#%%\n",
    "\n",
    "# %%\n",
    "@app.post(\"/query\")\n",
    "def query_dataframe(filters: Dict[str, Any] = Body(...)):\n",
    "    result = df\n",
    "    for key, value in filters.items():\n",
    "        if key not in df.columns:\n",
    "            raise HTTPException(status_code=400, detail=f\"Column '{key}' not found.\")\n",
    "        # For string filtering, use case-insensitive contains\n",
    "        if isinstance(value, str):\n",
    "            result = result.filter(pl.col(key).str.contains(value, case=False))\n",
    "        else:\n",
    "            result = result.filter(pl.col(key) == value)\n",
    "    \n",
    "    return result.to_dicts()"
   ]
  },
  {
   "cell_type": "markdown",
   "id": "61287d47",
   "metadata": {},
   "source": [
    "**Bước 2**: Run API"
   ]
  },
  {
   "cell_type": "markdown",
   "id": "c48e225f",
   "metadata": {},
   "source": [
    "```bash\n",
    "uvicorn main_data_api:app --reload"
   ]
  },
  {
   "cell_type": "markdown",
   "id": "97053171",
   "metadata": {},
   "source": [
    "### Khai thác API"
   ]
  },
  {
   "cell_type": "markdown",
   "id": "79abfc9a",
   "metadata": {},
   "source": [
    "Sau khi thực hiện xong, ta có thể khai thác và truy cập API, test thử với swagger tại server như sau"
   ]
  },
  {
   "cell_type": "markdown",
   "id": "87a760a7",
   "metadata": {},
   "source": [
    "- Truy cập vào local: `localhost:8000/docs`\n",
    "- Test thử dữ liệu"
   ]
  },
  {
   "cell_type": "markdown",
   "id": "f08c73a5",
   "metadata": {},
   "source": [
    "![](image/p02-2025-07-27-11-07-54.png)"
   ]
  },
  {
   "cell_type": "markdown",
   "id": "20a9c495",
   "metadata": {},
   "source": [
    "Kết quả trả ra như sau"
   ]
  },
  {
   "cell_type": "markdown",
   "id": "03caf152",
   "metadata": {},
   "source": [
    "![](image/p02-2025-07-27-11-09-14.png)"
   ]
  },
  {
   "cell_type": "markdown",
   "id": "52060ead",
   "metadata": {},
   "source": [
    "---"
   ]
  },
  {
   "cell_type": "markdown",
   "id": "0743eb48",
   "metadata": {},
   "source": [
    "Ta cũng có thể khai thác với postman với Headers & Body như sau"
   ]
  },
  {
   "cell_type": "markdown",
   "id": "c0487126",
   "metadata": {},
   "source": [
    "![](image/p02-2025-07-27-11-10-40.png)"
   ]
  },
  {
   "cell_type": "markdown",
   "id": "5505ee5a",
   "metadata": {},
   "source": [
    "![](image/p02-2025-07-27-11-12-07.png)"
   ]
  },
  {
   "cell_type": "markdown",
   "id": "36aea19c",
   "metadata": {},
   "source": [
    "Với terminal"
   ]
  },
  {
   "cell_type": "markdown",
   "id": "3103cb3f",
   "metadata": {},
   "source": [
    "```bash\n",
    "curl -X POST http://127.0.0.1:8000/query \\\n",
    "  -H \"Content-Type: application/json\" \\\n",
    "  -d '{\"id\": 1}'"
   ]
  },
  {
   "cell_type": "markdown",
   "id": "ca85eaa7",
   "metadata": {},
   "source": []
  }
 ],
 "metadata": {
  "kernelspec": {
   "display_name": "Python 3",
   "language": "python",
   "name": "python3"
  },
  "language_info": {
   "name": "python",
   "version": "3.11.9"
  }
 },
 "nbformat": 4,
 "nbformat_minor": 5
}
