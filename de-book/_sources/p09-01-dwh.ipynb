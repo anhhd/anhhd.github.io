{
 "cells": [
  {
   "cell_type": "markdown",
   "metadata": {},
   "source": [
    "# Data Warehouse Modelling\n",
    "\n"
   ]
  },
  {
   "cell_type": "markdown",
   "metadata": {},
   "source": [
    "## Giới thiệu"
   ]
  },
  {
   "cell_type": "markdown",
   "metadata": {},
   "source": [
    "\n",
    "> Kho dữ liệu tập trung (DWH) là một hệ thống thu thập, tổng hợp và làm sạch dữ liệu định kỳ từ các hệ thống nguồn (source system) thành dữ liệu có cấu trúc được chuẩn hoá (normalized) nhiều chiều. Dữ liệu trong DWH thường được xử lý theo nhóm (batches)\n",
    "\n",
    "Data Warehouse (`DWH`) cần phải đảm bảo các mục tiêu sau:\n",
    "\n",
    "- Dễ dàng truy cập nhanh chóng\n",
    "- Đồng nhất dữ liệu\n",
    "- Có khả năng thay đổi theo nhu cầu nghiệp vụ"
   ]
  },
  {
   "cell_type": "markdown",
   "metadata": {},
   "source": [
    "\n",
    "Các cấu phần quan trọng nhất của DWH bao gồm:\n",
    "\n",
    "- `Source system`: Các hệ thống nguồn, còn được gọi là OLTP (`Online Transaction Processing`), dùng để lưu trữ các giao dịch của khách hàng theo từng hệ thống\n",
    "- `Data Profiler`: Công cụ để đánh giá dữ liệu của hệ thống nguồn, ví dụ: Có bao nhiêu giá trị NULL, số lượng dòng/cột trong mỗi bảng từ nguồn\n",
    "- `ETL`: Quá trình `Extract - Transform - Load` dữ liệu\n",
    "- `DDS`: Dimensional Data Store - nguồn dữ liệu đã được chuẩn hoá và lưu trữ tập trung. Nguồn dữ liệu có cấu trúc khác so với hệ thống nguồn (OLTP)\n",
    "- `DQ`: Data Quality, kiểm soát chất lượng dữ liệu sau khi đi vào DWH. Nếu chất lượng dữ liệu đảm bảo, sẽ được sử dụng tiếp trong các hoạt động khai thác tiếp theo.\n",
    "\n",
    "<center><font size=4>&sect;</font></center>\n",
    "\n",
    "**Data consolidation**\n",
    "\n",
    "Khi tổng hợp lại dữ liệu từ các nguồn khác nhau, có các vấn đề sau cần phải tính toán:\n",
    "\n",
    "- **Data availability**:  Mỗi hệ thống có những nhóm dữ liệu khác nhau. VD: Hệ thống T24 có thể có address1, address2,... nhưng trong hệ thống Online Banking chỉ có 1 giá trị address\n",
    "- **Time ranges**: Khi tổng hơp dữ liệu, cần phải xét cùng trong 1 khoảng thời gian.\n",
    "- **Definition**: Cùng tên 1 trường thông tin nhưng trong mỗi hệ thống khác nhau lại có ý nghĩa khác nhau.\n",
    "- **Conversion**: Khác nhau về các đơn vị, múi giờ và thời gian trong từng hệ thống... VD: Dữ liệu quẹt thẻ tín dụng đưa về Master Card theo GMT+0, trong khi lưu trữ của W4 tại ngân hàng trong nước là GMT+7\n",
    "- **Matching**: Quá trình xác định các đối tượng duy nhất giữa các hệ thống. VD: CustomerID trong T24 cần phải khớp với UserID trong hệ thống Internet Banking\n",
    "\n",
    "Dữ liệu trong DWH được update theo batch (chốt ngày hoặc chốt thời gian dữ liệu), mục tiêu để giữ nguồn dữ liệu phân tích đảm bảo tính ổn định tương đối khi phân tích\n",
    "\n",
    "<center><font size=4>&sect;</font></center>\n",
    "\n",
    "**ODS** - Operational Data Store: Là nguồn dữ liệu được update theo thời gian thực (real/near real time) từ hệ thống nguồn. Khi dữ liệu từ Source System thay đổi, dữ liệu ODS sẽ thay đổi ngay lập tức tương ứng.\n",
    "\n",
    "<center><font size=4>&sect;</font></center>\n",
    "\n",
    "**Master Data Management**\n",
    "\n",
    "Trong hệ thống nguồn OLTP, có 2 loại dữ liệu chính:\n",
    "\n",
    "- **Transaction**: Là dữ liệu giao dịch hoặc business event\n",
    "- **Master**: Đối tượng tham gia trong transaction\n",
    "\n",
    "Ví dụ: Công ty vận tải có 10 tài xế với 8 chiếc xe, di chuyển 1 ngày được 1000 tuyến.\n",
    "\n",
    "- Mỗi chuyến xe bus từ điểm A đến điểm B là 1 giao dịch\n",
    "- Đối tượng tham gia trực tiếp vào giao dịch (tài xế, xe bus, khách hàng) là master data\n",
    "\n",
    "<center><font size=4>&sect;</font></center>\n",
    "\n",
    "\n",
    "Trách nhiệm của vị trí quản lý dữ liệu rất đa dạng:\n",
    "\n",
    "- Hiểu nhu cầu người dùng\n",
    "- Đảm bảo sự chính xác và đồng nhất của dữ liệu giữa các mảng nghiệp vụ lớn\n",
    "- Duy trì được sự tin tưởng của người dùng với kho dữ liệu tập trung\n",
    "\n",
    "Modelling phải trải qua 4 bước:\n",
    "\n",
    "- Xác định chính xác business process:\n",
    "- Xác định `grain` trong fact table: Trả lời câu hỏi, một dòng trong fact table có ý nghĩa là gì?\n",
    "- Xác định dimension\n",
    "- Xác định facts\n",
    "\n",
    "<center><font size=4>&sect;</font></center>\n",
    "\n",
    "Khi xây dựng Data Model, có 2 loại bảng chính: Dim & Fact\n",
    "\n",
    "Measure (Facts): Là các chỉ số được sử dụng tổng hợp, tính toán như doanh số bán hàng, số lượng hàng tồn kho,... \n",
    "\n",
    "Dimension là các chiều để đánh giá chính xác context (bối cảnh) quanh chỉ số cần phan tích"
   ]
  },
  {
   "cell_type": "markdown",
   "metadata": {},
   "source": [
    "### Facts"
   ]
  },
  {
   "cell_type": "markdown",
   "metadata": {},
   "source": [
    "\n",
    "Nếu chia theo thuộc tính cộng, measure có 3 nhóm  sau:\n",
    "    - Additive - như số lượng đơn hàng. Tổng số hàng cả nước là tổng số hàng mỗi đơn vị\n",
    "    - Semi-additive - Số lượng khách hàng trong cả nước ko hẳn là tổng số khách hàng mỗi đơn vị do 1 khách hàng có thể thuộc nhiều  đơn vị\n",
    "    - Non-additive: Không thể cộng tổng lại. VD: Tỷ lệ phần trăm lợi nhuận của toàn hàng không phải là tổng tỷ lệ phần trăm lợi nhuận mỗi đơn vị\n",
    "\n",
    "Ngoài ra, facts còn có thể có các nhóm sau:\n",
    "\n",
    "- `Transaction Fact`: đo lường chỉ tiêu tại 1 điểm thời gian, không gian cụ thể. VD: Bảng giá trị giao dịch theo thời gian giao dịch\n",
    "- `Periodic Snapshot Fact`: Đo lường các chỉ tiêu tại 1 khoảng thời gian cụ thể VD: Tổng giá trị giải ngân/ADB giải ngân trong tháng\n",
    "- `Accumulating Snapshot Fact`: Đo lường chỉ tiêu luỹ kế tại 1 thời điểm. VD: \n",
    "    - Số lượng khách hàng active luỹ kế tại thời điểm, tổng số tiền giải ngân luỹ kế\n",
    "    - Số điểm loyalty hiện hữu tại 1 thời điểm của 1 khách hàng\n",
    "- `Factless fact`: Trường hợp tìm kiếm và tổng hợp measure không xuất hiện thực tế. VD: Tìm số lượng khách hàng không giao dịch trong 1 khoảng thời gian. "
   ]
  },
  {
   "cell_type": "markdown",
   "metadata": {},
   "source": [
    "> **Lưu ý**: Nên tránh xây báo cáo lẫn lộn cả nhóm fact transaction lẫn nhóm chu kỳ\n",
    "\n",
    "<center><font size=4>&sect;</font></center>\n",
    "\n",
    "Thông thường, mỗi fact cần được tách theo từng business process riêng. Tuy nhiên, khi tổng hợp cùng lúc nhiều facts thuộc nhiều process và cùng một granularity, facts đó được gọi là `consolidated fact tables`.\n",
    "\n",
    "Các trường hợp tổng hợp lại sẽ hỗ trợ tốt nhóm báo cáo nhiều chỉ tiêu, nhưng do mỗi facts có các đặc thù về độ mịn (granularity) khác nhau, nên khi cần `drill down`, sẽ gặp khó khăn."
   ]
  },
  {
   "cell_type": "markdown",
   "metadata": {},
   "source": [
    "### Dimension"
   ]
  },
  {
   "cell_type": "markdown",
   "metadata": {},
   "source": [
    "\n",
    "- Dimension: Là chiều để tổng hợp các chỉ số. Dimension dùng để trả lời các câu hỏi \"who, what, where, when, how\" quanh một chỉ số nhất định. Dimension có các nhóm sau\n",
    "      - Hieararchy: Là độ chi tiết và phân tầng thứ tự của dimension, thuộc tính này còn được gọi là `granularity`. VD: `Chi nhánh < Thành phố < Vùng`\n",
    "      - Slow changing dimension: Các dimension có thể thay đổi theo thời gian. VD: Khi mở thêm chi nhánh, sẽ có thêm dimension Branch_name. Đối với loại này, cần có thểm thông tin effective date\n",
    "      - Time dimension: Loại dimension rất đặc biệt, có thể có các dạng sau:\n",
    "          - Theo lịch:` Year > Month > Date hoặc Year > Month > Week > Weekday > Date`\n",
    "          - Theo năm tài chính: Fiscal year\n",
    "\n",
    "> **Lưu ý**: Số liệu định dạng số liên tục thường là measure, số liệu định dạng số rời rạc thường là dim. Ta có thể biến measure thành dimension bằng cách biến đổi dữ liệu numeric về thành dạng group.\n",
    "\n",
    "Các kiểu dimension như sau:\n",
    "\n",
    "- `Dimension Surrogate Keys`: Một cột làm key duy nhất\n",
    "- `Natural/Durable & Supernatural Keys`: Khoá tự nhiên (natural) do hệ thống tự sinh. Durable (còn gọi là supernatural key) là key được điều chỉnh để đảm bảo tính đồng nhất của 1 đối tượng. Ví dụ, nhân sự nghỉ việc, khi quay lại vẫn giữ cùng 1 mã ID duy nhất\n",
    "\n",
    "<center><font size=4>&sect;</font></center>\n",
    "\n",
    "`Enterprise DWH Bus Architecture` là kỹ thuật chia nhỏ DWH/BI process thành các đơn vị nhỏ để quản lý và tái sử dụng. \n",
    "\n",
    "`Enterprise DWH Bus Matrix` là ma trận phân tích các chiều (dimension) theo từng business process."
   ]
  },
  {
   "cell_type": "markdown",
   "metadata": {},
   "source": [
    "![](image/dwh-01-bus-matrix.png)"
   ]
  },
  {
   "cell_type": "markdown",
   "metadata": {},
   "source": [
    "Một số kiểu của `SCD` (Slowly Changing Dimension) thường dùng:\n",
    "\n",
    "- Type 0: Giữ nguyên giá trị, thường dùng với date dimension\n",
    "- Type 1: Ghi đè giá trị cũ\n",
    "- Type 2: Thêm dòng mới, có thêm ngày hiệu lực và kết thúc hiệu lực"
   ]
  },
  {
   "cell_type": "markdown",
   "metadata": {},
   "source": [
    "![](image/dwh-02-scd-type2.png)"
   ]
  },
  {
   "cell_type": "markdown",
   "metadata": {},
   "source": [
    "- Type 3: Chỉ ghi giá trị mới nhất nhưng thêm thông tin giá trị gần nhất trong cùng 1 dòng. Type 3 có thể mở rộng có thêm nhiều giá trị khác ở thời điểm trước trong cùng 1 dòng."
   ]
  },
  {
   "cell_type": "markdown",
   "metadata": {},
   "source": [
    "![](image/dwh-02-scd-type3.png)"
   ]
  },
  {
   "cell_type": "markdown",
   "metadata": {},
   "source": [
    "## Kiến trúc DWH"
   ]
  },
  {
   "cell_type": "markdown",
   "metadata": {},
   "source": [
    "\n",
    "Trong DWH có 3 cấu phần:\n",
    "\n",
    "- `System architecture`: Kiến trúc về phần cứng vật lý của hệ thống\n",
    "- `Data architecture`: Kiến trúc quy hoạch các phân vùng dữ liệu để phục vụ từng mảng nghiệp vụ khác nhau. Việc quy hoạch các phân vùng cụ thể theo từng bảng, từng trường là nghiệp vụ của `data modelling`\n",
    "- `Data flow architecture`: Kiến trúc về luồng đi của dữ liệu từ các hệ thống khác nhau sao cho tối ưu nhất"
   ]
  },
  {
   "cell_type": "markdown",
   "metadata": {},
   "source": [
    "### Data flow architecture"
   ]
  },
  {
   "cell_type": "markdown",
   "metadata": {},
   "source": [
    "\n",
    "Nếu phân loại theo tầng người dùng cuối sử dụng, phần dữ liệu có thể được chia làm 3 nhóm:\n",
    "\n",
    "- `User facing data`: Dữ liệu được người dùng cuối truy cập và query\n",
    "- `Internal data`: Dữ liệu chỉ sử dụng nội bộ trong DWH, người dùng cuối không được quyền truy cập\n",
    "- `Hybrid data`: Hybrid cả user-facing data và internal data"
   ]
  },
  {
   "cell_type": "markdown",
   "metadata": {},
   "source": [
    "### System architecture"
   ]
  }
 ],
 "metadata": {
  "anaconda-cloud": "",
  "kernelspec": {
   "display_name": "saturn (Python 3)",
   "language": "python",
   "name": "python3"
  },
  "language_info": {
   "codemirror_mode": {
    "name": "ipython",
    "version": 3
   },
   "file_extension": ".py",
   "mimetype": "text/x-python",
   "name": "python",
   "nbconvert_exporter": "python",
   "pygments_lexer": "ipython3",
   "version": "3.11.10"
  }
 },
 "nbformat": 4,
 "nbformat_minor": 4
}
