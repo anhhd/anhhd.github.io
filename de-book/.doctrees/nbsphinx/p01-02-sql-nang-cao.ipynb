{
 "cells": [
  {
   "cell_type": "markdown",
   "metadata": {},
   "source": [
    "# SQL nâng cao"
   ]
  },
  {
   "cell_type": "markdown",
   "metadata": {},
   "source": [
    "## SQL động với Exec\n",
    "\n",
    "SQL động là nhóm sử dụng nâng cao của SQL, cho phép người dùng tự động hóa các script. Sử dụng SQL động cho phép tùy biến các câu lệnh khi truy vấn và xử lý dữ liệu. Khi sử dụng SQL động, ta cần dùng `EXEC`\n"
   ]
  },
  {
   "cell_type": "markdown",
   "metadata": {
    "vscode": {
     "languageId": "r"
    }
   },
   "source": [
    "```sql\n",
    "-- Cách 1\n",
    "declare @id int\n",
    "set @id = '4'\n",
    "exec('select * from ACCOUNT where ACCOUNT_ID = ' + @id)\n",
    "\n",
    "-- Cách 2\n",
    "declare @id varchar(100)\n",
    "set @id = '4'\n",
    "declare @sql varchar(1000)\n",
    "set @sql = 'select * from ACCOUNT where account_id = ' + @id\n",
    "print @sql -- Đảm bảo câu lệnh thực hiện đúng\n",
    "exec(@sql)\n",
    "\n",
    "```"
   ]
  },
  {
   "cell_type": "markdown",
   "metadata": {},
   "source": [
    "**Lưu ý khi sử dụng SQL động**\n",
    "\n",
    "- Lưu ý dấu cách \n"
   ]
  },
  {
   "cell_type": "markdown",
   "metadata": {
    "vscode": {
     "languageId": "r"
    }
   },
   "source": [
    "```sql\n",
    "EXEC(' SELECT col1, col2, col3 ' +\n",
    "     ' FROM ' + @tblname +\n",
    "     ' WHERE keycol = ''' + @key + '''')\n",
    "\n",
    "```"
   ]
  },
  {
   "cell_type": "markdown",
   "metadata": {},
   "source": [
    "- Luôn dùng print để đảm bảo viết đúng câu lệnh trước khi sử dụng exec\n",
    "\n"
   ]
  },
  {
   "cell_type": "markdown",
   "metadata": {
    "vscode": {
     "languageId": "r"
    }
   },
   "source": [
    "```sql\n",
    "declare @month varchar(8) = (select max(date) from ##A)\n",
    "print('select * from ##B where month = ' + @month)\n",
    "\n",
    "```"
   ]
  },
  {
   "cell_type": "markdown",
   "metadata": {},
   "source": [
    "## Thủ tục & hàm"
   ]
  },
  {
   "cell_type": "markdown",
   "metadata": {},
   "source": [
    "### Procedure\n",
    "\n",
    "**Hiển thị tất cả các procedure đang lưu trong hệ thống**"
   ]
  },
  {
   "cell_type": "markdown",
   "metadata": {
    "vscode": {
     "languageId": "r"
    }
   },
   "source": [
    "```sql\n",
    "-- Tất cả các procedure\n",
    "SELECT name, \n",
    "       type\n",
    "FROM dbo.sysobjects\n",
    "WHERE (type = 'P')\n",
    " \n",
    "-- Các procedure do người dùng tạo \n",
    "  select * \n",
    "  from master.information_schema.routines \n",
    "  where routine_type = 'PROCEDURE' \n",
    "        and Left(Routine_Name, 3) NOT IN ('sp_', 'xp_', 'ms_')\n",
    "\n",
    "```"
   ]
  },
  {
   "cell_type": "markdown",
   "metadata": {},
   "source": [
    "- **Xóa procedure**\n",
    "\n"
   ]
  },
  {
   "cell_type": "markdown",
   "metadata": {
    "vscode": {
     "languageId": "r"
    }
   },
   "source": [
    "```sql\n",
    "drop procedure cast_data\n",
    "\n",
    "\n",
    "```"
   ]
  },
  {
   "cell_type": "markdown",
   "metadata": {},
   "source": [
    "### Tạo procedure\n",
    "\n",
    "- Procedure không có biến\n"
   ]
  },
  {
   "cell_type": "markdown",
   "metadata": {
    "vscode": {
     "languageId": "r"
    }
   },
   "source": [
    "```sql\n",
    "-- Tạo procedure\n",
    "create procedure getID_normal \n",
    "as\n",
    "select * from ACCOUNT\n",
    "-- Chạy procedure\n",
    "execute getID_normal\n",
    "\n",
    "```"
   ]
  },
  {
   "cell_type": "markdown",
   "metadata": {},
   "source": [
    "- Procedure nhiều biến\n",
    "\n"
   ]
  },
  {
   "cell_type": "markdown",
   "metadata": {
    "vscode": {
     "languageId": "r"
    }
   },
   "source": [
    "```sql\n",
    "--Tạo procedure\n",
    "create procedure PROD_CD \n",
    "  @prod nvarchar(30) = NULL,\n",
    "  @AVAIL_BALANCE float\n",
    "as\n",
    "  select * from ACCOUNT\n",
    "  where PRODUCT_CD = @prod and\n",
    "  AVAIL_BALANCE >= @AVAIL_BALANCE\n",
    "GO\n",
    "\n",
    "--Chạy procedure\n",
    "PROD_CD @prod = 'CHK', @AVAIL_BALANCE = 10000\n",
    "\n",
    "```"
   ]
  },
  {
   "cell_type": "markdown",
   "metadata": {},
   "source": [
    "**Lưu ý**: Trong SQL có 2 loại biến: \n",
    "\n",
    "- User defined variable: Bắt đầu bằng dấu **@**\n",
    "- System variable: Bắt đầu bằng dấu **@@** - loại này chỉ xuất hiện sau khi đã thực hiện xong 1 số câu lệnh\n"
   ]
  },
  {
   "cell_type": "markdown",
   "metadata": {
    "vscode": {
     "languageId": "r"
    }
   },
   "source": [
    "```sql\n",
    "select * from [DimCustomer]\n",
    "select @@ROWCOUNT\n",
    "\n",
    "```"
   ]
  },
  {
   "cell_type": "markdown",
   "metadata": {},
   "source": [
    "---\n",
    "\n",
    "**Lưu ý**: Gán kết quả 1 procedure vào biến\n",
    "\n"
   ]
  },
  {
   "cell_type": "markdown",
   "metadata": {
    "vscode": {
     "languageId": "r"
    }
   },
   "source": [
    "```sql\n",
    "drop procedure if exists return_date\n",
    "create procedure [dbo].[return_date] (@no_date int = 0, @no_date2 int = 2,  @result varchar(8) output)\n",
    "as\n",
    "begin \n",
    "set @result = (select convert(varchar(8), getdate() - @no_date + @no_date2, 112))\n",
    "end\n",
    "\n",
    "declare @result varchar(8)\n",
    "execute return_date 5, 1, @result output\n",
    "print @result\n",
    "\n",
    "```"
   ]
  },
  {
   "cell_type": "markdown",
   "metadata": {},
   "source": [
    "### Hàm (function)\n",
    "\n"
   ]
  },
  {
   "cell_type": "markdown",
   "metadata": {
    "vscode": {
     "languageId": "r"
    }
   },
   "source": [
    "```sql\n",
    "DROP FUNCTION IF EXISTS fn_return_date\n",
    "\n",
    "CREATE FUNCTION [dbo].[fn_return_date] (@no_date INT = 0)\n",
    "RETURNS INT\n",
    "AS\n",
    "BEGIN\n",
    "\tRETURN (\n",
    "\t\t\tSELECT cast(convert(VARCHAR(8), getdate() - @no_date, 112) AS INT)\n",
    "\t\t\t)\n",
    "END;\n",
    "\n",
    "-- Cách 1\n",
    "declare @result int\n",
    "select @result = [dbo].[fn_return_date](4)\n",
    "print @result\n",
    "\n",
    "-- Cách 2\n",
    "declare @result int\n",
    "set @result = ([dbo].[fn_return_date](4))\n",
    "print @result\n",
    "\n",
    "```"
   ]
  },
  {
   "cell_type": "markdown",
   "metadata": {},
   "source": [
    "## Câu điều kiện If...Else\n"
   ]
  },
  {
   "cell_type": "markdown",
   "metadata": {
    "vscode": {
     "languageId": "r"
    }
   },
   "source": [
    "```sql\n",
    "if 1 = 1\n",
    "begin\n",
    "print 'wrong'\n",
    "print 'not sure'\n",
    "end\n",
    "else\n",
    "begin\n",
    "print 'right'\n",
    "print 'absolutely right'\n",
    "\n",
    "```"
   ]
  },
  {
   "cell_type": "markdown",
   "metadata": {},
   "source": [
    "**Lưu ý**: Sau mệnh đề else, if, nếu có nhiều câu lệnh cùng thực hiện, cần khai báo begin...end"
   ]
  },
  {
   "cell_type": "markdown",
   "metadata": {},
   "source": [
    "---\n",
    "\n",
    "Lưu ý: Ta có thể sử dụng câu điều kiện `if...else` để kiểm tra  điều kiện để thực thi tiếp\n",
    "\n",
    "- Kiểm tra điều kiện tồn tại của bảng\n",
    "- Nếu tồn tại, chạy tiếp\n",
    "- Nếu không tồn tại, skip các câu lệnh tiếp theo"
   ]
  },
  {
   "cell_type": "markdown",
   "metadata": {
    "vscode": {
     "languageId": "r"
    }
   },
   "source": [
    "```sql\n",
    "--SQL CMD\n",
    ":on error exit\n",
    "\n",
    "declare @tbl sysname\n",
    "set @tbl = 'TBL_I2B_USERS_F0_20180502'\n",
    "\n",
    "IF NOT EXISTS (SELECT * FROM ANHNT67.DBS_DAILY.DBO.SYSOBJECTS \n",
    "\t\t\t\tWHERE NAME = @tbl)\n",
    "BEGIN\n",
    "raiserror('Table does not exist', 15, 10)\n",
    "print(@tbl)\n",
    "return\n",
    "END\n",
    "\n",
    "EXEC('select top 10 * FROM ANHNT67.DBS_DAILY.DBO.' + @tbl)\n",
    "\n",
    "```"
   ]
  },
  {
   "cell_type": "markdown",
   "metadata": {},
   "source": [
    "## Vòng lặp với bảng\n",
    "\n",
    "SQL chỉ chạy được vòng lặp `WHILE`\n"
   ]
  },
  {
   "cell_type": "markdown",
   "metadata": {
    "vscode": {
     "languageId": "r"
    }
   },
   "source": [
    "```sql\n",
    "DROP FUNCTION IF EXISTS fn_return_date\n",
    "\n",
    "CREATE FUNCTION [dbo].[fn_return_date] (@no_date INT = 0)\n",
    "RETURNS INT\n",
    "AS\n",
    "BEGIN\n",
    "\tRETURN (\n",
    "\t\t\tSELECT cast(convert(VARCHAR(8), getdate() - @no_date, 112) AS INT)\n",
    "\t\t\t)\n",
    "END;\n",
    "\n",
    "declare @result int\n",
    "select @result = [dbo].[fn_return_date](4)\n",
    "print @result\n",
    "\n",
    "drop table if exists #temp\n",
    "create table #temp (date int)\n",
    "select * from #temp\n",
    "\n",
    "insert into #temp (date)\n",
    "select [dbo].[fn_return_date](1) as date\n",
    "insert into #temp (date)\n",
    "select [dbo].[fn_return_date](2) as date\n",
    "insert into #temp (date)\n",
    "select [dbo].[fn_return_date](3) as date\n",
    "\n",
    "drop table if exists #temp2\n",
    "select * \n",
    "into #temp2\n",
    "from #temp\n",
    "\n",
    "alter table #temp2\n",
    "add new varchar(20)\n",
    "\n",
    "select * from #temp2\n",
    "\n",
    "update #temp2 \n",
    "set new = cast(date as varchar(20)) + 'abc'\n",
    "\n",
    "\n",
    "--Reference\n",
    "drop table if exists #ref\n",
    "\n",
    "create table #ref (\n",
    "[index] int identity(1,1) not null,\n",
    "[date] int\n",
    ")\n",
    "\n",
    "insert into #ref (date)\n",
    "select [date] from #temp order by [date]\n",
    "\n",
    "select * from #ref\n",
    "\n",
    "-- VERSION 1: DOES NOT WORK\n",
    "\n",
    "declare @loopcounter int, @maxcounter int \n",
    "set @loopcounter = (select min(date) from #temp2)\n",
    "set @maxcounter = (select max(date) from #temp2)\n",
    "\n",
    "while (@loopcounter <= @maxcounter)\n",
    "begin\n",
    "\tselect * from #temp2 where\n",
    "\tdate = @loopcounter\n",
    "\tset @loopcounter = @loopcounter + 1\n",
    "end\n",
    "\n",
    "\n",
    "-- VERSION 2: WORK WELL\n",
    "drop table if exists #result\n",
    "create table #result (date int, new varchar(20))\n",
    "select * from #result\n",
    "\n",
    "declare @loopcounter int, @maxcounter int \n",
    "set @loopcounter = (select min([index]) from #ref)\n",
    "set @maxcounter = (select max([index]) from #ref)\n",
    "\n",
    "while (@loopcounter <= @maxcounter)\n",
    "begin\n",
    "\tdeclare @date int \n",
    "\tset @date = (select [date] from #ref where [index] = @loopcounter)\n",
    "\t\n",
    "\tinsert into #result ([date], new)\n",
    "\tselect * from #temp2 where\n",
    "\t[date] = @date\n",
    "\tset @loopcounter = @loopcounter + 1\n",
    "end\n",
    "\n",
    "select * from #result\n",
    "\n",
    "```"
   ]
  },
  {
   "cell_type": "markdown",
   "metadata": {},
   "source": [
    "## Đặt job trong SQL"
   ]
  },
  {
   "cell_type": "markdown",
   "metadata": {},
   "source": [
    "Khi làm việc với SQL, một trong những yêu cầu rất quan trọng là phải tự động hóa code SQL theo thơi gian. Yêu cầu này có thể được xử lý bằng cách đặt job thông qua các bước lớn sau.\n",
    "\n",
    "- Active email tự động\n",
    "- Đăng ký email\n",
    "- Active SQL Server Agent\n",
    "- Đặt job"
   ]
  },
  {
   "cell_type": "markdown",
   "metadata": {},
   "source": [
    "### Bước 1: Active email tự động\n",
    "\n",
    "- Thực hiện câu lệnh  sau trên SQL để active gửi Database Mail. Do khi cài SQL, mặc định Database mail chưa được active nên khi sử dụng ta cần active database này"
   ]
  },
  {
   "cell_type": "markdown",
   "metadata": {
    "vscode": {
     "languageId": "r"
    }
   },
   "source": [
    "```sql\n",
    "sp_configure 'show advanced options', 1;\n",
    "GO\n",
    "RECONFIGURE;\n",
    "GO\n",
    "sp_configure 'Database Mail XPs', 1;\n",
    "GO\n",
    "RECONFIGURE\n",
    "GO\n",
    "\n",
    "```"
   ]
  },
  {
   "cell_type": "markdown",
   "metadata": {},
   "source": [
    "### Bước 2: Đăng kí email trong Database mail\n",
    "\n",
    "- Tại màn hình SQL >> Object Explore >> Management >> Database Mail >> Tick vào Set up database Mail by performing the following tasks >> Next >> Profile name điền tên id của mình muốn >> Add >> Điền đẩy đủ thông tin như hình bên dưới với thông tin email >> Next\n",
    "  \n",
    "- Mục đích của bước này là sau khi hoàn thành Job ta sẽ có 1 email thông báo Job đã thành công hoặc gửi thẳng cho client là dữ liệu đã sẵn sàng để có thể sử dụng\n",
    "  \n"
   ]
  },
  {
   "cell_type": "markdown",
   "metadata": {
    "vscode": {
     "languageId": "r"
    }
   },
   "source": [
    "```sql\n",
    "ID: email\n",
    "Pass: pwd\n",
    "\n",
    "```"
   ]
  },
  {
   "cell_type": "markdown",
   "metadata": {},
   "source": [
    "  \n",
    "![Template](Images/job_1.png) \n",
    "\n",
    "---\n",
    "\n",
    "![Template](Images/job_2.png)\n",
    "\n",
    "---"
   ]
  },
  {
   "cell_type": "markdown",
   "metadata": {},
   "source": [
    "### Bước 3: Active SQL Server Agent\n",
    "\n",
    "- Tại `Object Explore` >> Click chuột phải vào SQL Server Agent >> Start"
   ]
  },
  {
   "cell_type": "markdown",
   "metadata": {},
   "source": [
    "### Bước 4: Đặt Job"
   ]
  },
  {
   "cell_type": "markdown",
   "metadata": {},
   "source": [
    "- Chuột phải vào SQL Server Agent >> New >> Điền Name vào mục General >> Qua mục Steps >> Tạo các bước của Job tại New >> Điền Step Name >> Paste code automate vào phần Command. Ví dụ có thể sử dụng tại code bên dưới \n",
    "\n",
    "![Template](Images/job_3.png)"
   ]
  },
  {
   "cell_type": "markdown",
   "metadata": {},
   "source": [
    "---\n",
    "\n",
    "![Template](Images/job_4.png)\n",
    "\n",
    "---"
   ]
  },
  {
   "cell_type": "markdown",
   "metadata": {
    "vscode": {
     "languageId": "r"
    }
   },
   "source": [
    "```sql\n",
    "IF EXISTS (SELECT * FROM [BA].[INFORMATION_SCHEMA].[TABLES] WHERE [TABLE_NAME] = 'CREDIT_CARD_TRANSACTION_SUCCESSFUL_MASTER')\n",
    "DROP TABLE [BA].[dbo].[CREDIT_CARD_TRANSACTION_SUCCESSFUL_MASTER]\n",
    "\n",
    "EXEC('\n",
    "SELECT  ID,\n",
    "\t\tYEARMONTH,\n",
    "\t\tTARGET_ID,\n",
    "\t\tTRANS_DATE,\n",
    "\t\tTRANS_CURR,\n",
    "\t\tTRANS_AMOUNT_QD,\n",
    "\t\tTRANS_DETAILS,\n",
    "\t\tMERCHANT_ID,\n",
    "\t\tTRANS_CITY,\n",
    "\t\tTRANS_COUNTRY,\n",
    "\t\tBI_TRANS_TYPE,\n",
    "\t\tSIC_CODE,\n",
    "\t\tCIF,\n",
    "\t\tPRODUCT_DETAIL\n",
    "INTO [BA].[dbo].[CREDIT_CARD_TRANSACTION_SUCCESSFUL_MASTER]\n",
    "FROM [BA].[dbo].[CREDIT_CARD_TRANSACTION_SUCCESSFUL_2018]\n",
    "UNION ALL\n",
    "SELECT  ID,\n",
    "\t\tYEARMONTH,\n",
    "\t\tTARGET_ID,\n",
    "\t\tTRANS_DATE,\n",
    "\t\tTRANS_CURR,\n",
    "\t\tTRANS_AMOUNT_QD,\n",
    "\t\tTRANS_DETAILS,\n",
    "\t\tMERCHANT_ID,\n",
    "\t\tTRANS_CITY,\n",
    "\t\tTRANS_COUNTRY,\n",
    "\t\tBI_TRANS_TYPE,\n",
    "\t\tSIC_CODE,\n",
    "\t\tCIF,\n",
    "\t\tPRODUCT_DETAIL\n",
    "FROM [BA].[dbo].[CREDIT_CARD_TRANSACTION_SUCCESSFUL_2017]\n",
    "')\n",
    "\n",
    "EXEC('\n",
    "ALTER TABLE [BA].[dbo].[CREDIT_CARD_TRANSACTION_SUCCESSFUL_MASTER]\n",
    "ADD SIC_ID VARCHAR(MAX), MCC_CATEGORY VARCHAR(MAX), MCC_CATEGORY_AIA VARCHAR(MAX)\n",
    "')\n",
    "\n",
    "EXEC('\n",
    "UPDATE [BA].[dbo].[CREDIT_CARD_TRANSACTION_SUCCESSFUL_MASTER]\n",
    "SET SIC_ID = A.SIC_CODE collate database_default,\n",
    "\tMCC_CATEGORY = A.CATEGORIES\n",
    "FROM [BA].[dbo].[MCC_CATEGORY_20170808] A\n",
    "WHERE [BA].[dbo].[CREDIT_CARD_TRANSACTION_SUCCESSFUL_MASTER].SIC_CODE = A.SIC_ID\t\t\n",
    "\n",
    "UPDATE [BA].[dbo].[CREDIT_CARD_TRANSACTION_SUCCESSFUL_MASTER]\n",
    "SET MCC_CATEGORY_AIA = A.MCC_CATEGORY\n",
    "FROM [BA].[dbo].[MCC_CATEGORY_AIA_20180307] A\n",
    "WHERE [BA].[dbo].[CREDIT_CARD_TRANSACTION_SUCCESSFUL_MASTER].SIC_CODE = A.SIC_ID\n",
    "')\n",
    "\n",
    "```"
   ]
  },
  {
   "cell_type": "markdown",
   "metadata": {},
   "source": [
    "  \n",
    "  - Tạo bước gửi email đến Client >> Đặt tên là SUCCESSFUL JOB >> ta làm tương tự các bước như trên với code trong mục command như sau. \n",
    "  \n"
   ]
  },
  {
   "cell_type": "markdown",
   "metadata": {
    "vscode": {
     "languageId": "r"
    }
   },
   "source": [
    "```sql\n",
    "USE [msdb]\n",
    "DECLARE @REPORT_DATE DATE = (select MAX(TRANS_DATE) from  BA..CREDIT_CARD_TRANSACTION_SUCCESSFUL_MASTER);\n",
    "DECLARE @SUBJECT VARCHAR(250) = '[JOB DONE] - CREDIT CARD TRANSACTION - '+convert(varchar(8),@REPORT_DATE,112);\n",
    "EXEC\n",
    "sp_send_dbmail\n",
    "@profile_name ='thanh',\n",
    "@recipients ='thanhnm3@vpbank.com.vn; truongnh3@vpbank.com.vn; lambt1@vpbank.com.vn',\n",
    "@subject = @SUBJECT,\n",
    "@body =N'CREDIT CARD TRANSACTION IS AVAILABLE',\n",
    "@execute_query_database ='msdb'\n",
    "\n",
    "```"
   ]
  },
  {
   "cell_type": "markdown",
   "metadata": {},
   "source": [
    "  \n",
    "- Tạo bước gửi email đến chính mình khi JOB bị failed >> Đặt tên là FAILED JOB >> ta làm tương tự các bước như trên với code trong mục command như sau.\n",
    "  \n"
   ]
  },
  {
   "cell_type": "markdown",
   "metadata": {
    "vscode": {
     "languageId": "r"
    }
   },
   "source": [
    "```sql\n",
    "USE [msdb]\n",
    "DECLARE @REPORT_DATE DATE = (select MAX(TRANS_DATE) from  BA..CREDIT_CARD_TRANSACTION_SUCCESSFUL_MASTER);\n",
    "DECLARE @SUBJECT VARCHAR(250) = '[JOB DONE] - CREDIT CARD TRANSACTION - '+convert(varchar(8),@REPORT_DATE,112);\n",
    "EXEC\n",
    "sp_send_dbmail\n",
    "@profile_name ='thanh',\n",
    "@recipients ='thanhnm3@vpbank.com.vn',\n",
    "@subject = @SUBJECT,\n",
    "@body =N'CREDIT CARD TRANSACTION HAS BEEN FAILED',\n",
    "@execute_query_database ='msdb'\n",
    "\n",
    "```"
   ]
  },
  {
   "cell_type": "markdown",
   "metadata": {},
   "source": [
    "  \n",
    "- Sửa lại cách thức chạy code của các bước >> Double Click vào step 1 >> Chọn Advanced >> Tại On failure action >> Chọn go to FAILED JOB (step đặt mail báo failed)\n",
    "\n",
    "![Template](Images/job_5.png)"
   ]
  },
  {
   "cell_type": "markdown",
   "metadata": {},
   "source": [
    "**Lưu ý**\n",
    "\n",
    "- Code SQL được đưa vào trong JOB cần là code động "
   ]
  },
  {
   "cell_type": "markdown",
   "metadata": {},
   "source": [
    "## Pivot & Unpivot"
   ]
  },
  {
   "cell_type": "markdown",
   "metadata": {},
   "source": [
    "```sql\n",
    "-- Tạo bảng\n",
    "create table #student\n",
    "(\n",
    "id int,\n",
    "mark1 float,\n",
    "mark2 float,\n",
    "mark3 float\n",
    ")\n",
    "\n",
    "insert into #student values (1, 1,2,3)\n",
    "insert into #student values (2, 5,6,7)\n",
    "insert into #student values (3, 7,4,2)\n",
    "\n",
    "-- UNPIVOT\n",
    "\n",
    "SELECT * FROM\n",
    "(SELECT *\n",
    "FROM #Student) a\n",
    "UNPIVOT\n",
    "(value_var FOR group_var IN (Mark1, Mark2, Mark3)\n",
    ") b\n",
    "\n",
    "-- PIVOT\n",
    "\n",
    "SELECT * \n",
    "into #student_pivot FROM\n",
    "(SELECT *\n",
    "FROM #Student) a\n",
    "UNPIVOT\n",
    "(value_var FOR group_var IN (Mark1, Mark2, Mark3)\n",
    ") b\n",
    "\n",
    "\n",
    "select * from \n",
    "(select * from #student_pivot) a\n",
    "pivot \n",
    "(sum(value_var) for group_var in (mark1, mark2, mark3)) b\n",
    "\n",
    "```"
   ]
  },
  {
   "cell_type": "markdown",
   "metadata": {},
   "source": [
    "### Procedure pivot\n",
    "\n",
    "- Dynamic sql\n"
   ]
  },
  {
   "cell_type": "markdown",
   "metadata": {},
   "source": [
    "```sql\n",
    "declare @data nvarchar(30)\n",
    "declare @group nvarchar(30)\n",
    "set @data = '#student_pivot'\n",
    "set @group = STUFF(\n",
    "(SELECT ',' + b.group_var\n",
    "              FROM \n",
    "\t\t\t  (select distinct group_var from #student_pivot\n",
    "\t\t\t  where group_var not like 'mark1') b\n",
    "              FOR XML PATH ('')),1,1,'')\n",
    "\n",
    "declare @sqlstr nvarchar(max)\n",
    "set @sqlstr = N'select * from \n",
    "(select * from '+ @data +') a\n",
    "pivot \n",
    "(sum(value_var) for group_var in (' + @group + ')) b\n",
    "'\n",
    "exec sp_executesql @sqlstr\n",
    "\n",
    "```"
   ]
  },
  {
   "cell_type": "markdown",
   "metadata": {},
   "source": [
    "- Procedure\n",
    "\n"
   ]
  },
  {
   "cell_type": "markdown",
   "metadata": {},
   "source": [
    "```sql\n",
    "drop procedure if exists sql_pivot\n",
    "create procedure sql_pivot  @data nvarchar(max),\n",
    "\t\t\t\t\t\t\t@group nvarchar(max), -- Variable to pivot\n",
    "\t\t\t\t\t\t\t@row nvarchar(max), -- Column to keep as key\n",
    "\t\t\t\t\t\t\t@value nvarchar(max), -- Column to calculate\n",
    "\t\t\t\t\t\t\t@function nvarchar(max) = 'sum', -- Function to calculate\n",
    "\t\t\t\t\t\t\t@stored_data nvarchar(max) = '##pivot_result' -- Store data result\n",
    "as\n",
    "begin\n",
    "declare @sql nvarchar(max)\n",
    "set @sql = '\n",
    "declare @group_value nvarchar(max)\n",
    "set @group_value = STUFF(\n",
    "(SELECT '','' + b.'+@group+'\n",
    "              FROM \n",
    "\t\t\t  (select distinct '+ @group +' from '+ @data +') b\n",
    "              FOR XML PATH ('''')),1,1,'''')\n",
    "\n",
    "declare @sqlstr nvarchar(max)\n",
    "set @sqlstr = N''\n",
    "drop table if exists '+ @stored_data +'\n",
    "select * \n",
    "into '+ @stored_data +'\n",
    "from \n",
    "(select '+ @group+ ',' + @row + ', '+@value +'  from '+ @data +') a\n",
    "pivot \n",
    "('+@function+'('+ @value +') for '+@group+' in ('' + @group_value + '')) b\n",
    "''\n",
    "exec sp_executesql @sqlstr\n",
    "'\n",
    "exec sp_executesql @sql\n",
    "end;\n",
    "\n",
    "```"
   ]
  },
  {
   "cell_type": "markdown",
   "metadata": {},
   "source": [
    "\n",
    "- Ví dụ:\n"
   ]
  },
  {
   "cell_type": "markdown",
   "metadata": {},
   "source": [
    "```sql\n",
    "sql_pivot @data = '##student_pivot', @row = 'id',\n",
    "@group= 'group_var', @value = 'value_var', @function = 'sum'\n",
    "select * from ##pivot_result\n",
    "\n",
    "```"
   ]
  },
  {
   "cell_type": "markdown",
   "metadata": {},
   "source": [
    "### Procedure unpivot\n",
    "\n",
    "- Dynamic sql: Cho phép nhiều ID\n",
    "\n",
    "- Cách 1: Chỉ sử dụng với các data trong máy local\n"
   ]
  },
  {
   "cell_type": "markdown",
   "metadata": {},
   "source": [
    "```sql\n",
    "declare @data nvarchar(max) = 'student'\n",
    "declare @id_var nvarchar(max) = '''id'',''mark1'''\n",
    "declare @group_var nvarchar(max) = 'group_var'\n",
    "declare @value_var nvarchar(max) = 'value_var'\n",
    "\n",
    "declare @sql nvarchar(max)\n",
    "set @sql = '\n",
    "declare @cols AS NVARCHAR(MAX)\n",
    "   select @cols = STUFF((SELECT '','' + QUOTENAME(column_name) \n",
    "                    FROM (\n",
    "                        select   table_name, column_name, ordinal_position, data_type\n",
    "                        from   information_schema.columns\n",
    "                        where   table_name = '''+@data+''' and \n",
    "\t\t\t\t\t\tcolumn_name not in ('+@id_var+') \n",
    "                        ) cols\n",
    "                    ORDER BY ordinal_position               \n",
    "                    FOR XML PATH(''''), TYPE).value(''.'', ''NVARCHAR(MAX)''),1,1,'''')\n",
    "select @cols\n",
    "\n",
    "declare @key AS NVARCHAR(MAX)\n",
    "   select @key = STUFF((SELECT '','' + QUOTENAME(column_name) \n",
    "                    FROM (\n",
    "                        select   table_name, column_name, ordinal_position, data_type\n",
    "                        from   information_schema.columns\n",
    "                        where   table_name = '''+@data+''' and \n",
    "\t\t\t\t\t\tcolumn_name in ('+@id_var+') \n",
    "                        ) cols\n",
    "                    ORDER BY ordinal_position               \n",
    "                    FOR XML PATH(''''), TYPE).value(''.'', ''NVARCHAR(MAX)''),1,1,'''')\n",
    "select @key\n",
    "\n",
    "declare @sqlstr nvarchar(max)\n",
    "set @sqlstr = N''\n",
    "            select ''+@key+'', '+@group_var+', '+@value_var+'\n",
    "            from(\n",
    "               select *\n",
    "               from '+@data+'\n",
    "            ) as a\n",
    "            unpivot\n",
    "            (\n",
    "              '+@value_var+' for '+@group_var+' in ('' + @cols + '')\n",
    "            ) as b''\n",
    "print @sqlstr\n",
    "exec sp_executesql @sqlstr\n",
    "'\n",
    "  \n",
    "exec sp_executesql @sql\n",
    "\n",
    "```"
   ]
  },
  {
   "cell_type": "markdown",
   "metadata": {},
   "source": [
    "- Cách 2: Khái quát dynamic sql\n",
    "\n"
   ]
  },
  {
   "cell_type": "markdown",
   "metadata": {},
   "source": [
    "```sql\n",
    "declare @db nvarchar(max) = 'tempdb'\n",
    "declare @data nvarchar(max) = '##student'\n",
    "declare @id_var nvarchar(max) = '''id'''\n",
    "declare @group_var nvarchar(max) = 'group_var'\n",
    "declare @value_var nvarchar(max) = 'value_var'\n",
    "declare @stored_data nvarchar(max) = '##a'\n",
    "declare @sql nvarchar(max) \n",
    "\n",
    "set @sql = N'\n",
    "drop table if exists ##all_cols\n",
    "select name into ##all_cols\n",
    "from '+@db+'.sys.columns \n",
    "where object_id in (select object_id from '+@db+'.sys.tables where name like ''%'+@data+''')\n",
    "\n",
    "declare @cols AS NVARCHAR(MAX)\n",
    "   select @cols = STUFF((SELECT '','' + QUOTENAME(name) \n",
    "                    FROM (\n",
    "                        select name from ##all_cols \n",
    "                        where name not in ('+@id_var+') \n",
    "                        ) cols            \n",
    "                    FOR XML PATH(''''), TYPE).value(''.'', ''NVARCHAR(MAX)''),1,1,'''')\n",
    "select @cols\n",
    "\n",
    "declare @key AS NVARCHAR(MAX)\n",
    "   select @key = STUFF((SELECT '','' + QUOTENAME(name) \n",
    "                    FROM (\n",
    "                        select name from ##all_cols \n",
    "                        where name in ('+@id_var+') \n",
    "                        ) cols            \n",
    "                    FOR XML PATH(''''), TYPE).value(''.'', ''NVARCHAR(MAX)''),1,1,'''')\n",
    "select @key\n",
    "\n",
    "--Run procedure\n",
    "\n",
    "declare @sqlstr nvarchar(max)\n",
    "set @sqlstr = N''\n",
    "\t\t\tdrop table if exists '+@stored_data+'\n",
    "            select ''+@key+'', '+@group_var+', '+@value_var+'\n",
    "\t\t\tinto '+@stored_data+'\n",
    "            from(\n",
    "               select *\n",
    "               from '+@db+'.dbo.['+@data+']\n",
    "            ) as a\n",
    "            unpivot\n",
    "            (\n",
    "              '+@value_var+' for '+@group_var+' in ('' + @cols + '')\n",
    "            ) as b\n",
    "\t\t\tselect * from '+@stored_data+'\n",
    "\t\t\t''\n",
    "print @sqlstr\n",
    "exec sp_executesql @sqlstr\n",
    "'\n",
    "exec sp_executesql @sql\n",
    "\n",
    "```"
   ]
  },
  {
   "cell_type": "markdown",
   "metadata": {},
   "source": [
    "**Lưu ý**: Các bảng phải là bảng trong db hoặc bảng lưu ở global environment\n",
    "\n",
    "- Procedure\n"
   ]
  },
  {
   "cell_type": "markdown",
   "metadata": {},
   "source": [
    "```sql\n",
    "drop procedure if exists sql_unpivot\n",
    "create procedure sql_unpivot \n",
    " @db nvarchar(max) = 'tempdb', --Database contains data\n",
    "@data nvarchar(max), -- Name of data\n",
    "@id_var nvarchar(max), -- Key variables\n",
    "@group_var nvarchar(max) = 'group_var', --Name of groups variable\n",
    "@value_var nvarchar(max) = 'value_var', -- Name of value variable\n",
    "@stored_data nvarchar(max) = '##unpivot_result'  -- Data storage\n",
    "as \n",
    "begin\n",
    "declare @sql nvarchar(max) \n",
    "set @sql = N'\n",
    "drop table if exists ##all_cols\n",
    "select name into ##all_cols\n",
    "from '+@db+'.sys.columns \n",
    "where object_id in (select object_id from '+@db+'.sys.tables where name like ''%'+@data+''')\n",
    "\n",
    "declare @cols AS NVARCHAR(MAX)\n",
    "   select @cols = STUFF((SELECT '','' + QUOTENAME(name) \n",
    "                    FROM (\n",
    "                        select name from ##all_cols \n",
    "                        where name not in ('+@id_var+') \n",
    "                        ) cols            \n",
    "                    FOR XML PATH(''''), TYPE).value(''.'', ''NVARCHAR(MAX)''),1,1,'''')\n",
    "-- Show columns\n",
    "print @cols \n",
    "\n",
    "declare @key AS NVARCHAR(MAX)\n",
    "   select @key = STUFF((SELECT '','' + QUOTENAME(name) \n",
    "                    FROM (\n",
    "                        select name from ##all_cols \n",
    "                        where name in ('+@id_var+') \n",
    "                        ) cols            \n",
    "                    FOR XML PATH(''''), TYPE).value(''.'', ''NVARCHAR(MAX)''),1,1,'''')\n",
    "-- Show key\n",
    "print @key \n",
    "\n",
    "--Run procedure\n",
    "\n",
    "declare @sqlstr nvarchar(max)\n",
    "set @sqlstr = N''\n",
    "\t\t\tdrop table if exists '+@stored_data+'\n",
    "            select ''+@key+'', '+@group_var+', '+@value_var+'\n",
    "\t\t\tinto '+@stored_data+'\n",
    "            from(\n",
    "               select *\n",
    "               from '+@db+'.dbo.['+@data+']\n",
    "            ) as a\n",
    "            unpivot\n",
    "            (\n",
    "              '+@value_var+' for '+@group_var+' in ('' + @cols + '')\n",
    "            ) as b\n",
    "\t\t\tselect * from '+@stored_data+'\n",
    "\t\t\t''\n",
    "print @sqlstr\n",
    "exec sp_executesql @sqlstr\n",
    "'\n",
    "exec sp_executesql @sql\n",
    "end\n",
    "\n",
    "```"
   ]
  },
  {
   "cell_type": "markdown",
   "metadata": {},
   "source": [
    "\n"
   ]
  },
  {
   "cell_type": "markdown",
   "metadata": {},
   "source": [
    "```sql\n",
    "exec sql_unpivot @db = 'loan_db', @data = 'MONTHLY_LCY_AMOUNT - M74 - BICDATA', \n",
    "@id_var = '''id'', ''YEARMONTH'', ''APP'',''ACCTNO'', ''CIF'', ''AVERAGE_BAL'', ''BI_SEGMENT'''\n",
    "\n",
    "```"
   ]
  },
  {
   "cell_type": "markdown",
   "metadata": {},
   "source": [
    "**Lưu ý**:\n",
    "\n",
    "- Bắt buộc phải có alias sau bảng\n",
    "\n",
    "\n",
    "## Chia một cột thành nhiều cột\n"
   ]
  },
  {
   "cell_type": "markdown",
   "metadata": {},
   "source": [
    "```sql\n",
    "CREATE TABLE tbl_SplitColumns (col1 varchar(max))\n",
    "GO\n",
    " \n",
    "INSERT INTO tbl_SplitColumns \n",
    "VALUES ('part1 part2 part3'),('abc xyz pqr'),('one two three'), ('Hello man nua nha')\n",
    "GO\n",
    "\n",
    "\n",
    "select * from tbl_SplitColumns\n",
    "\n",
    "DECLARE @delimiter VARCHAR(5)\n",
    "SET @delimiter=' '  \n",
    ";WITH CTE AS\n",
    "( \n",
    "    SELECT\n",
    "        col1,\n",
    "        CAST('<A>' + REPLACE(col1, @delimiter , '</A><A>') + '</A>' AS XML) AS XMLString\n",
    "    FROM tbl_SplitColumns \n",
    ")\n",
    "select * from CTE\n",
    "SELECT\n",
    "     XMLString.value('/A[1]', 'varchar(10)') As C1\n",
    "     ,XMLString.value('/A[2]', 'varchar(10)') As C2\n",
    "     ,XMLString.value('/A[3]', 'varchar(10)') As C3\n",
    "\t ,XMLString.value('/A[4]', 'varchar(10)') As C4\n",
    "  FROM CTE \n",
    "GO\n",
    "\n",
    "```"
   ]
  }
 ],
 "metadata": {
  "anaconda-cloud": "",
  "kernelspec": {
   "display_name": "saturn (Python 3)",
   "language": "python",
   "name": "python3"
  },
  "language_info": {
   "codemirror_mode": {
    "name": "ipython",
    "version": 3
   },
   "file_extension": ".py",
   "mimetype": "text/x-python",
   "name": "python",
   "nbconvert_exporter": "python",
   "pygments_lexer": "ipython3",
   "version": "3.11.10"
  }
 },
 "nbformat": 4,
 "nbformat_minor": 4
}
