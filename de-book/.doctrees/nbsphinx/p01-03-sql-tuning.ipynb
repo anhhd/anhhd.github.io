{
 "cells": [
  {
   "cell_type": "markdown",
   "metadata": {},
   "source": [
    "# SQL tuning\n",
    "\n"
   ]
  },
  {
   "cell_type": "markdown",
   "metadata": {},
   "source": [
    "Khi thực hiện các câu lệnh SQL ta cần lưu ý cách thức thực hiện các câu lệnh để đảm bảo tối ưu hóa về mặt hiệu năng & gia tăng tốc độ truy vấn. Chương này tổng hợp các mẹo giúp tăng tốc độ truy vấn SQL."
   ]
  },
  {
   "cell_type": "markdown",
   "metadata": {},
   "source": [
    "<center><font size=4>&sect;</font></center>\n",
    "\n",
    "Ưu tiên sử dụng `JOIN` trước khi sử dụng các nhóm câu lệnh khác\n",
    "\n",
    "<center><font size=4>&sect;</font></center>\n",
    "\n",
    "\n",
    "Không nên dùng `select *`, sẽ tốn tài nguyên, dùng cột nào nên select ra cột đó\n"
   ]
  },
  {
   "cell_type": "markdown",
   "metadata": {
    "vscode": {
     "languageId": "r"
    }
   },
   "source": [
    "```sql\n",
    "-- Dont\n",
    "select * from customer\n",
    "\n",
    "-- DO\n",
    "select cif, cus_class from customer\n",
    "```"
   ]
  },
  {
   "cell_type": "markdown",
   "metadata": {},
   "source": [
    "<center><font size=4>&sect;</font></center>\n",
    "\n",
    "Hạn chế dùng `distinct` nếu không thực sự cần thiết. Khi dùng `group by` rồi thì không cần distinct\n"
   ]
  },
  {
   "cell_type": "markdown",
   "metadata": {
    "vscode": {
     "languageId": "r"
    }
   },
   "source": [
    "```sql\n",
    "-- Dont\n",
    "select \n",
    "  distinct(branch), count(*) as no\n",
    "from tbl_branch\n",
    "group by branch\n",
    "\n",
    "-- Do\n",
    "select \n",
    "  branch, count(*) as no\n",
    "from tbl_branch\n",
    "group by branch\n",
    "```"
   ]
  },
  {
   "cell_type": "markdown",
   "metadata": {},
   "source": [
    "<center><font size=4>&sect;</font></center>\n",
    "\n",
    "Khi dùng các kiểu điều kiện giá trị tồn tại/không tồn tại trong bảng khác, nên lưu ý sử dụng join hoặc `exists`\n"
   ]
  },
  {
   "cell_type": "markdown",
   "metadata": {
    "vscode": {
     "languageId": "r"
    }
   },
   "source": [
    "```sql\n",
    "-- Create tables\n",
    "use draft;\n",
    "\n",
    "create table t1 (\n",
    "\tid int\n",
    "\t, prod1 varchar(8)\n",
    ")\n",
    "\n",
    "create table t2 (\n",
    "\tid int\n",
    "\t, prod1 varchar(8)\n",
    ")\n",
    "\n",
    "insert into t1 (id, prod1)\n",
    "values\n",
    "\t( 1, 'A')\n",
    "\t,(2, 'B')\n",
    "\t,(3, 'C')\n",
    "\n",
    "insert into t2 (id, prod1)\n",
    "values\n",
    "\t( 1, 'A')\n",
    "\t,(1, 'E')\n",
    "\t,(5, 'F')\n",
    "\n",
    "select * from t1\n",
    "select * from t2\n",
    "\n",
    "-- TH1: Select các giá trị có nằm trong bảng khác\n",
    "-- Không nên dùng\n",
    "select * from t2 A\n",
    "where A.id in (select id from t1)\n",
    "\n",
    "-- Nên dùng\n",
    "select * from t2 A\n",
    "where exists (\n",
    "\tselect id from t1 B \n",
    "\twhere A.id = B.id\n",
    ") \n",
    "\n",
    "```"
   ]
  },
  {
   "cell_type": "markdown",
   "metadata": {},
   "source": [
    "\n"
   ]
  },
  {
   "cell_type": "markdown",
   "metadata": {
    "vscode": {
     "languageId": "r"
    }
   },
   "source": [
    "```sql\n",
    "-- TH2: Select các giá trị không nằm trong bảng khác\n",
    "-- Không nên dùng - kiểu 1\n",
    "\n",
    "select * from t2 A\n",
    "where A.id not in (select id from t1)\n",
    "\n",
    "-- Không nền dùng - kiểu 2\n",
    "select * from t2 A\n",
    "where not exists (\n",
    "\tselect id from t1 B \n",
    "\twhere A.id = B.id\n",
    ")  \n",
    "\n",
    "-- Nên dùng\n",
    "select A.* \n",
    "from t2 A\n",
    "left join t1 B \n",
    "on A.id = B.id\n",
    "where B.id is null\n",
    "\n",
    "```"
   ]
  },
  {
   "cell_type": "markdown",
   "metadata": {},
   "source": [
    "<center><font size=4>&sect;</font></center>\n",
    "\n",
    "Khi `update`, nên dùng `update` kết hợp `inner join`\n"
   ]
  },
  {
   "cell_type": "markdown",
   "metadata": {
    "vscode": {
     "languageId": "r"
    }
   },
   "source": [
    "```sql\n",
    "-- DONT\n",
    "update t2\n",
    "set prod1 = B.prod1\n",
    "from t2 A, t1 B\n",
    "where A.id = B.id\n",
    "\n",
    "-- DO\n",
    "update t2\n",
    "set prod1 = B.prod1\n",
    "from t2 A \n",
    "inner join t1 B\n",
    "on A.id = B.id\n",
    "\n",
    "```"
   ]
  },
  {
   "cell_type": "markdown",
   "metadata": {},
   "source": [
    "<center><font size=4>&sect;</font></center>\n",
    "\n",
    "Khi dùng `UPDATE`, lưu ý phải viết tường minh, tránh dùng cách viết thiếu tường minh như dưới đây\n"
   ]
  },
  {
   "cell_type": "markdown",
   "metadata": {
    "vscode": {
     "languageId": "r"
    }
   },
   "source": [
    "```sql\n",
    "-- Dont\n",
    "UPDATE A \n",
    "SET A.DIV= NULL\n",
    "FROM (SELECT * FROM #TTR_TXN WHERE SRC_TBL='FT_HIST' AND DIV NOT IN ('SMEs','CIB','CMB')) A \n",
    "\n",
    "-- Do\n",
    "Update #TTR_TXN\n",
    "set DIV = NULL\n",
    "where \n",
    "    SRC_TBL='FT_HIST' \n",
    "    AND DIV NOT IN ('SMEs','CIB','CMB')\n",
    "\n",
    "```"
   ]
  },
  {
   "cell_type": "markdown",
   "metadata": {},
   "source": [
    "<center><font size=4>&sect;</font></center>\n",
    "\n",
    "Khi join hai bảng, cần phải lọc các điều kiện ra trước để bảng gọn hơn trước khi `join`, hạn chế join trước rồi mới `filter`.\n",
    "Việc tạo bảng nhỏ trước khi join sẽ giúp tăng performance lên rất nhiều\n"
   ]
  },
  {
   "cell_type": "markdown",
   "metadata": {
    "vscode": {
     "languageId": "r"
    }
   },
   "source": [
    "```sql\n",
    "--Dont\n",
    "select * from \n",
    "\t(\n",
    "\t\tselect A.*\n",
    "\t\t\t, B.prod1 as prod2 \n",
    "\t\tfrom t1 A\n",
    "\t\tleft join t2 B\n",
    "\t\ton A.id = B.id\n",
    "\t) tbl\n",
    "where tbl.prod1 in ('A', 'C')\n",
    "\n",
    "--Do\n",
    "select A.*\n",
    "\t, B.prod1 as prod2 \n",
    "from (\n",
    "\t\tselect * \n",
    "\t\tfrom t1\n",
    "\t\twhere prod1 in ('A', 'C')\n",
    "\t) A\n",
    "left join t2 B\n",
    "on A.id = B.id\n",
    "\n",
    "```"
   ]
  },
  {
   "cell_type": "markdown",
   "metadata": {},
   "source": [
    "<center><font size=4>&sect;</font></center>\n",
    "\n",
    "Ưu tiên sử dụng câu lệnh theo mức độ ưu tiên: `IN >> OR`, `EXISTS >> IN`, `BETWEEN >> IN`\n",
    "\n",
    "<center><font size=4>&sect;</font></center>\n",
    "\n",
    "Khi truy vấn, phải đảm bảo điều kiệu `sargable` (search argument able):\n",
    "\n",
    "- Tránh sử dụng `function` trong điều kiện `where` do mất hiệu năng hơn và SQL sẽ không sử dụng được thuộc tính index\n",
    "- Các cột nào là index nên đưa vào trước để filter\n",
    "- Khi dùng Wild Card (dạng `%`), cần lưu ý hạn chế dùng like khi bắt đầu với `%` để tăng hiệu năng\n"
   ]
  },
  {
   "cell_type": "markdown",
   "metadata": {
    "vscode": {
     "languageId": "r"
    }
   },
   "source": [
    "```sql\n",
    "--VD 1\n",
    "-- câu lệnh 1 (non-sargable)\n",
    "--Dont\n",
    "SELECT * FROM Sales.Individual\n",
    "WHERE CustomerID+2 = 11002\n",
    "\n",
    "--DO\n",
    "SELECT * FROM Sales.Individual\n",
    "WHERE CustomerID = 11000\n",
    "\n",
    "\n",
    "-- VD2\n",
    "-- Dont\n",
    "SELECT member_number, first_name, last_name\n",
    "FROM members\n",
    "WHERE DATEDIFF(yy,datofbirth,GETDATE()) > 21 \n",
    "\n",
    "-- Do\n",
    "SELECT member_number, first_name, last_name\n",
    "FROM members\n",
    "WHERE dateofbirth < DATEADD(yy,-21,GETDATE()) \n",
    "\n",
    "-- VD3\n",
    "-- Dont\n",
    "select * from customer where cus_name like '%HOANG%'\n",
    "\n",
    "-- DO\n",
    "select * from customer where cus_name like 'HOANG%'\n",
    "\n",
    "```"
   ]
  },
  {
   "cell_type": "markdown",
   "metadata": {},
   "source": [
    "<center><font size=4>&sect;</font></center>\n",
    "\n",
    "- Khi dùng IN, có thể thay thế bằng UNION ALL\n"
   ]
  },
  {
   "cell_type": "markdown",
   "metadata": {
    "vscode": {
     "languageId": "r"
    }
   },
   "source": [
    "```sql\n",
    "-- Câu lệnh 1: 242 ms \n",
    "set statistics time on \n",
    "select * from [CUSTOMER - M74 - BICDATA] where cus_name like 'VO%' or cus_name like '%PHAN%'\n",
    "\n",
    "-- Câu lệnh 2: 172 ms\n",
    "set statistics time on \n",
    "select * from [CUSTOMER - M74 - BICDATA] where cus_name like 'VO%'\n",
    "union all\n",
    "select * from [CUSTOMER - M74 - BICDATA] where cus_name like '%PHAN%'\n",
    "\n",
    "```"
   ]
  },
  {
   "cell_type": "markdown",
   "metadata": {},
   "source": [
    "<center><font size=4>&sect;</font></center>\n",
    "\n",
    "Để xác định sự tồn tại của bản ghi, nên dùng `if exists`, không nên dùng `count(*)`\n"
   ]
  },
  {
   "cell_type": "markdown",
   "metadata": {
    "vscode": {
     "languageId": "r"
    }
   },
   "source": [
    "```sql\n",
    "-- Dont\n",
    "IF (SELECT COUNT(*) FROM table_name WHERE column_name = 'xxx')\n",
    "\n",
    "-- Do\n",
    "IF exists (SELECT * FROM table_name WHERE column_name = 'xxx')\n",
    "\n",
    "```"
   ]
  },
  {
   "cell_type": "markdown",
   "metadata": {},
   "source": [
    "<center><font size=4>&sect;</font></center>\n",
    "\n",
    "Khi dùng hàm tính toán tổng hợp, nên đánh giá logic SQL sẽ phải đi như thế nào và nên dùng bảng dẫn (`derived table`) - bảng ở sau mệnh đề from để tính toán \n"
   ]
  },
  {
   "cell_type": "markdown",
   "metadata": {
    "vscode": {
     "languageId": "r"
    }
   },
   "source": [
    "```sql\n",
    "-- Dont\n",
    "select min(trans) \n",
    "from hoang\n",
    "where group_ in (\n",
    "\tselect group_ from tbl_A\n",
    "\twhere trans >= 15\n",
    ")\n",
    "\n",
    "-- Do\n",
    "select min(A.trans) \n",
    "from (\n",
    "\tselect group_, trans \n",
    "\tfrom tbl_A\n",
    "\twhere trans >= 15\n",
    ") A\n",
    "\n",
    "-- Dùng tương đương\n",
    "with A as (\n",
    "\tselect group_, trans \n",
    "\tfrom hoang\n",
    "\twhere trans >= 15\n",
    ") \n",
    "\n",
    "```"
   ]
  },
  {
   "cell_type": "markdown",
   "metadata": {},
   "source": [
    "<center><font size=4>&sect;</font></center>\n",
    "\n",
    "Khi insert vào một bảng lớn, tránh dùng `union all` trước mà nên insert từng đoạn\n"
   ]
  },
  {
   "cell_type": "markdown",
   "metadata": {
    "vscode": {
     "languageId": "r"
    }
   },
   "source": [
    "```sql\n",
    "-- Không nên dùng\n",
    "with tbl_A as (\n",
    "  select * from tbl1\n",
    "  union all\n",
    "  select * from tbl2\n",
    ")\n",
    "insert into #temp\n",
    "select * from tbl_A\n",
    "\n",
    "-- Nên dùng\n",
    "insert into #temp\n",
    "select * from tbl1\n",
    "\n",
    "insert into #temp\n",
    "select * from tbl2\n",
    "\n",
    "```"
   ]
  },
  {
   "cell_type": "markdown",
   "metadata": {},
   "source": [
    "<center><font size=4>&sect;</font></center>\n",
    "\n",
    "Tránh sử dụng các hàm chuyển đổi kiểu dữ liệu trong mệnh đề WHERE. Ví dụ: `cast as`, `convert`.\n",
    "\n",
    "<center><font size=4>&sect;</font></center>\n",
    "\n",
    "Nếu nhận thấy rằng SQL Server sử dụng Table Scan thay vì INDEX SEEK trong câu truy vấn có `IN` hay `OR`, ngay cả cột tìm kiếm đó đã tạo index, ta có thể sử dụng thuộc tính `Index hint` để bắt buộc SQL tối ưu hoá truy vấn sử dụng `index`, như ví dụ sau:\n"
   ]
  },
  {
   "cell_type": "markdown",
   "metadata": {
    "vscode": {
     "languageId": "r"
    }
   },
   "source": [
    "```sql\n",
    "--Dont\n",
    "SELECT top 10 * from CUSTOMER.DBO.VPB_CUSTOMER  WHERE CIF in ('16258');\n",
    "\n",
    "--Do\n",
    "-- Câu truy vấn sau sẽ chạy nhanh hơn câu trước vì ép sử dụng index\n",
    "\n",
    "SELECT top 10 * \n",
    "from CUSTOMER.DBO.VPB_CUSTOMER \n",
    "WITH(INDEX = IDX_CUSTOMER) WHERE CIF in ('16258');\n",
    "\n",
    "```"
   ]
  },
  {
   "cell_type": "markdown",
   "metadata": {},
   "source": [
    "<center><font size=4>&sect;</font></center>\n",
    "\n",
    "Không dùng `EXISTS` hoặc `NOT EXISTS` trong câu lệnh `CASE WHEN`, tốc độ sẽ rất chậm. Cần `JOIN` trước khi sử dụng `CASE WHEN`\n"
   ]
  },
  {
   "cell_type": "markdown",
   "metadata": {
    "vscode": {
     "languageId": "r"
    }
   },
   "source": [
    "```sql\n",
    "--DONT'\n",
    "set STATISTICS  time on;\n",
    "\n",
    "SELECT  CASE  WHEN MANAGER_ID = 'HANTT55' \n",
    "                  AND ACNT_CONTRACT_ID IN (SELECT ACNT_CONTRACT_ID from AUTO.DBO.PMC_RAW_RTC_202103) \n",
    "                  THEN N'Đóng bởi user của PMC'\n",
    "              WHEN MANAGER_ID = 'HANTT55' AND ACNT_CONTRACT_ID \n",
    "                NOT IN (SELECT ACNT_CONTRACT_ID from AUTO.DBO.PMC_RAW_RTC_202103) \n",
    "                THEN N'Đóng bởi user của 247'\n",
    "              WHEN MANAGER_ID <> 'HANTT55' THEN N'Đóng bởi user của Chi nhánh'\n",
    "        ELSE    'Others' END MANAGER_ID\n",
    "from    MONTHLY_NEWDATA.DBO.CREDITCARD_20210331 --> Tháng cần lấy dữ liệu\n",
    "WHERE   CARD_ATTRITION = 1\n",
    "\n",
    "--DO\n",
    "\n",
    "set STATISTICS time on;\n",
    "SELECT\n",
    "CASE\n",
    "    WHEN MANAGER_ID = 'HANTT55' then\n",
    "        case\n",
    "            when b.ACNT_CONTRACT_ID is not null tHEN N'Đóng bởi user của PMC'\n",
    "            when b.ACNT_CONTRACT_ID is null THEN N'Đóng bởi user của 247'\n",
    "        end\n",
    "    WHEN MANAGER_ID <> 'HANTT55' THEN N'Đóng bởi user của Chi nhánh'\n",
    "    ELSE 'Others' END MANAGER_ID\n",
    "from MONTHLY_NEWDATA.DBO.CREDITCARD_20210331 a --> Tháng cần lấy dữ liệu\n",
    "left join (\n",
    "    select acnt_contract_id from AUTO.DBO.PMC_RAW_RTC_202103 group by acnt_contract_id) b\n",
    "on a.ACNT_CONTRACT_ID = b.ACNT_CONTRACT_ID\n",
    "WHERE A.CARD_ATTRITION = 1;\n",
    "\n",
    "```"
   ]
  },
  {
   "cell_type": "markdown",
   "metadata": {},
   "source": [
    "<center><font size=4>&sect;</font></center>\n",
    "\n",
    "Sử dụng `Views` rất thuận tiện trong việc hạn chế người sử dụng xem dữ liệu nhưng về vấn đề hiêu năng. Tránh sử dụng các Views lồng nhau.\n",
    "\n",
    "\n",
    "<center><font size=4>&sect;</font></center>\n",
    "\n",
    "\n",
    "Trong SQL Server từ phiên bản 2000 cung cấp 1 kiểu dữ liệu mới gọi là `table` để lưu trữ tạm thời tập các records. \n",
    "Nếu có thể, ta hãy sử dụng biến table thay vì sử dụng bảng tạm.\n"
   ]
  },
  {
   "cell_type": "markdown",
   "metadata": {
    "vscode": {
     "languageId": "r"
    }
   },
   "source": [
    "```sql\n",
    "declare @tbl_a table \n",
    "    (\n",
    "        a varchar(10)\n",
    "    )\n",
    "\n",
    "```"
   ]
  },
  {
   "cell_type": "markdown",
   "metadata": {},
   "source": [
    "<center><font size=4>&sect;</font></center>\n",
    "\n",
    "Khi khai báo `datatype` column đúng với bản chất, tránh dư thừa tài nguyên. Ví dụ: cột `branch_id` có định dạng `VN12375` chỉ nên khai báo dạng `varchar(8)`, tránh khai báo `nvarchar(100)` do cột `branch_id` chỉ có tối đa 8 ký tự\n",
    "\n",
    "<center><font size=4>&sect;</font></center>\n",
    "\n",
    "Tránh sử dụng con trỏ (`SQL Server Cursors`) do các câu lệnh này thường sử dụng nhiều tài nguyên SQL Server, giảm hiệu năng của hệ thống\n",
    "\n",
    "<center><font size=4>&sect;</font></center>\n",
    "\n",
    "Khi dùng câu lệnh `UNION`, kết quả tương tự như `SELECT DISTINCT`. Do đó nếu biết chắc rằng không có 1 hàng nào trùng lắp được tạo ra từ kết quả của UNION thì ta nên sử dụng câu lệnh `UNION ALL`.\n",
    "\n",
    "<center><font size=4>&sect;</font></center>\n",
    "\n",
    "Tránh sử dụng các toán tử sau trong mệnh đề WHERE: \"IS NULL\", \"<>\", \"!=\", \"!>\", \"!<\", \"NOT\", \"NOT EXISTS\", \"NOT IN\", \"NOT LIKE\", and \"LIKE '%abc'\". \n",
    "\n",
    "<center><font size=4>&sect;</font></center>\n",
    "\n",
    "Không dùng `having` thay thế cho where trong filter\n"
   ]
  }
 ],
 "metadata": {
  "anaconda-cloud": "",
  "kernelspec": {
   "display_name": "saturn (Python 3)",
   "language": "python",
   "name": "python3"
  },
  "language_info": {
   "codemirror_mode": {
    "name": "ipython",
    "version": 3
   },
   "file_extension": ".py",
   "mimetype": "text/x-python",
   "name": "python",
   "nbconvert_exporter": "python",
   "pygments_lexer": "ipython3",
   "version": "3.11.10"
  }
 },
 "nbformat": 4,
 "nbformat_minor": 4
}
