{
 "cells": [
  {
   "cell_type": "markdown",
   "metadata": {},
   "source": [
    "# SQL style guide\n",
    "\n"
   ]
  },
  {
   "cell_type": "markdown",
   "metadata": {},
   "source": [
    "Việc viết chuẩn format code của bất kỳ ngôn ngữ nào đều rất quan trọng, sẽ giúp cho việc theo dõi và đọc code thuận tiện hơn rất nhiều. Các lưu ý khi viết format code SQL\n",
    "\n",
    "## Viết thường câu lệnh\n"
   ]
  },
  {
   "cell_type": "markdown",
   "metadata": {},
   "source": [
    "```sql\n",
    "-- Good\n",
    "select * from users\n",
    "\n",
    "-- Bad\n",
    "SELECT * FROM users\n",
    "\n",
    "-- Bad\n",
    "Select * From users\n",
    "\n",
    "```"
   ]
  },
  {
   "cell_type": "markdown",
   "metadata": {},
   "source": [
    "## Mỗi cột cần được tách thành các dòng khác nhau trong select\n",
    "\n"
   ]
  },
  {
   "cell_type": "markdown",
   "metadata": {},
   "source": [
    "```sql\n",
    "-- Good\n",
    "select \n",
    "    id\n",
    "from users \n",
    "\n",
    "-- Good\n",
    "select \n",
    "    id,\n",
    "    email\n",
    "from users \n",
    "\n",
    "-- Good\n",
    "select \n",
    "    id\n",
    "    , email\n",
    "    , name\n",
    "from users \n",
    "\n",
    "-- Bad\n",
    "select id, name\n",
    "from users \n",
    "\n",
    "```"
   ]
  },
  {
   "cell_type": "markdown",
   "metadata": {},
   "source": [
    "## Các điều kiện trong where cần viết lùi vào trong\n",
    "\n"
   ]
  },
  {
   "cell_type": "markdown",
   "metadata": {},
   "source": [
    "```sql\n",
    "-- Good\n",
    "select *\n",
    "from users\n",
    "where \n",
    "    email = 'example@domain.com'\n",
    "\n",
    "-- Good\n",
    "select *\n",
    "from users\n",
    "where \n",
    "    email like '%@domain.com' and \n",
    "    created_at >= '2021-10-08'\n",
    "\n",
    "-- Bad\n",
    "select *\n",
    "from users\n",
    "where email = 'example@domain.com'\n",
    "\n",
    "-- Bad\n",
    "select *\n",
    "from users\n",
    "where \n",
    "    email like '%@domain.com' and created_at >= '2021-10-08'\n",
    "\n",
    "-- Bad\n",
    "select *\n",
    "from users\n",
    "where \n",
    "    email like '%@domain.com' \n",
    "    and created_at >= '2021-10-08'\n",
    "\n",
    "```"
   ]
  },
  {
   "cell_type": "markdown",
   "metadata": {},
   "source": [
    "## Căn trái các keyword chính\n",
    "\n"
   ]
  },
  {
   "cell_type": "markdown",
   "metadata": {},
   "source": [
    "```sql\n",
    "-- Good\n",
    "select\n",
    "  column_name1,\n",
    "  column_name2,\n",
    "  column_name3\n",
    "from table_1\n",
    "join table_2\n",
    "  on table_1.id = table_2.id\n",
    "where clouds = true\n",
    "  and gem = true\n",
    "group by 1,2,3\n",
    "having column_name1 > 0\n",
    "  and column_name2 > 0\n",
    "\n",
    "```"
   ]
  },
  {
   "cell_type": "markdown",
   "metadata": {},
   "source": [
    "## Khoảng trắng trong dấu ngoặc\n",
    "\n"
   ]
  },
  {
   "cell_type": "markdown",
   "metadata": {},
   "source": [
    "```sql\n",
    "-- Good\n",
    "select *\n",
    "from users\n",
    "where \n",
    "    id in (1, 2)\n",
    "\n",
    "-- Bad\n",
    "select *\n",
    "from users\n",
    "where \n",
    "    id in ( 1, 2 )\n",
    "\n",
    "```"
   ]
  },
  {
   "cell_type": "markdown",
   "metadata": {},
   "source": [
    "## Tách dòng trong điều kiện in nhiều giá trị\n",
    "\n"
   ]
  },
  {
   "cell_type": "markdown",
   "metadata": {},
   "source": [
    "```sql\n",
    "-- Good\n",
    "select *\n",
    "from users\n",
    "where \n",
    "    email in (\n",
    "        'user-1@example.com',\n",
    "        'user-2@example.com',\n",
    "        'user-3@example.com',\n",
    "        'user-4@example.com'\n",
    "    )\n",
    "\n",
    "```"
   ]
  },
  {
   "cell_type": "markdown",
   "metadata": {},
   "source": [
    "## Tên các bảng và cột\n",
    "\n",
    "Vì các bảng và cột thường đặt tên tiếng anh nên với các tên bảng/cột đặt tiếng anh nên các lưu ý như sau:\n",
    "\n",
    "- viêt thường\n",
    "- Bảng đặt tên có dấu\n",
    "- Cột đặt tên không dấu\n"
   ]
  },
  {
   "cell_type": "markdown",
   "metadata": {},
   "source": [
    "```sql\n",
    "-- Good\n",
    "select * \n",
    "from users\n",
    "\n",
    "-- Good\n",
    "select * \n",
    "from visit_logs\n",
    "\n",
    "-- Bad\n",
    "select * \n",
    "from user\n",
    "\n",
    "-- Bad\n",
    "select * \n",
    "from visitLog\n",
    "\n",
    "```"
   ]
  },
  {
   "cell_type": "markdown",
   "metadata": {},
   "source": [
    "\n",
    "\n"
   ]
  },
  {
   "cell_type": "markdown",
   "metadata": {},
   "source": [
    "```sql\n",
    "-- Good\n",
    "select\n",
    "    id,\n",
    "    email,\n",
    "    timestamp_trunc(created_at, month) as signup_month\n",
    "from users\n",
    "\n",
    "-- Bad\n",
    "select\n",
    "    id,\n",
    "    email,\n",
    "    timestamp_trunc(created_at, month) as SignupMonth\n",
    "from users\n",
    "\n",
    "```"
   ]
  },
  {
   "cell_type": "markdown",
   "metadata": {},
   "source": [
    "## Các lưu ý format khi join\n",
    "\n",
    "Đặt điều kiện join theo thứ tự bảng\n"
   ]
  },
  {
   "cell_type": "markdown",
   "metadata": {},
   "source": [
    "```sql\n",
    "-- Good\n",
    "select\n",
    "    ...\n",
    "from users\n",
    "left join charges on users.id = charges.user_id\n",
    "-- primary_key = foreign_key --> one-to-many --> fanout\n",
    "  \n",
    "select\n",
    "    ...\n",
    "from charges\n",
    "left join users on charges.user_id = users.id\n",
    "-- foreign_key = primary_key --> many-to-one --> no fanout\n",
    "\n",
    "-- Bad\n",
    "select\n",
    "    ...\n",
    "from users\n",
    "left join charges on charges.user_id = users.id\n",
    "\n",
    "```"
   ]
  },
  {
   "cell_type": "markdown",
   "metadata": {},
   "source": [
    "<center><font size=4>&sect;</font></center>\n",
    "\n",
    "Khi join nhiều điều kiện, cần phân tách điều kiện theo các dòng khác nhau\n"
   ]
  },
  {
   "cell_type": "markdown",
   "metadata": {},
   "source": [
    "```sql\n",
    "-- Good\n",
    "select\n",
    "    users.email,\n",
    "    sum(charges.amount) as total_revenue\n",
    "from users\n",
    "inner join charges on \n",
    "    users.id = charges.user_id and\n",
    "    users.account = charges.account\n",
    "group by email\n",
    "\n",
    "```"
   ]
  },
  {
   "cell_type": "markdown",
   "metadata": {},
   "source": [
    "<center><font size=4>&sect;</font></center>\n",
    "\n",
    "Khi join chỉ có 1 điều kiện, các thể để điều kiện cùng dòng với join\n"
   ]
  },
  {
   "cell_type": "markdown",
   "metadata": {},
   "source": [
    "```sql\n",
    "-- Good\n",
    "select\n",
    "    users.email,\n",
    "    sum(charges.amount) as total_revenue\n",
    "from users\n",
    "inner join charges on users.id = charges.user_id\n",
    "\n",
    "```"
   ]
  },
  {
   "cell_type": "markdown",
   "metadata": {},
   "source": [
    "## Các cột được group được đẩy lên trước\n",
    "\n"
   ]
  },
  {
   "cell_type": "markdown",
   "metadata": {},
   "source": [
    "```sql\n",
    "-- Good\n",
    "select\n",
    "  timestamp_trunc(com_created_at, year) as signup_year,\n",
    "  count(*) as total_companies\n",
    "from companies\n",
    "group by signup_year\n",
    "\n",
    "-- Bad\n",
    "select\n",
    "  count(*) as total_companies,\n",
    "  timestamp_trunc(com_created_at, year) as signup_year\n",
    "from mysql_helpscout.helpscout_companies\n",
    "group by signup_year\n",
    "\n",
    "```"
   ]
  },
  {
   "cell_type": "markdown",
   "metadata": {},
   "source": [
    "## Case when\n",
    "\n"
   ]
  },
  {
   "cell_type": "markdown",
   "metadata": {},
   "source": [
    "```sql\n",
    "-- Good\n",
    "select\n",
    "    case\n",
    "        when event_name = 'viewed_homepage' then 'Homepage'\n",
    "        when event_name = 'viewed_editor' then 'Editor'\n",
    "        else 'Other'\n",
    "    end as page_name\n",
    "from events\n",
    "\n",
    "-- Good too\n",
    "select\n",
    "    case\n",
    "        when event_name = 'viewed_homepage'\n",
    "            then 'Homepage'\n",
    "        when event_name = 'viewed_editor'\n",
    "            then 'Editor'\n",
    "        else 'Other'            \n",
    "    end as page_name\n",
    "from events\n",
    "\n",
    "-- Bad \n",
    "select\n",
    "    case when event_name = 'viewed_homepage' then 'Homepage'\n",
    "        when event_name = 'viewed_editor' then 'Editor'\n",
    "        else 'Other'        \n",
    "    end as page_name\n",
    "from events\n",
    "\n",
    "```"
   ]
  },
  {
   "cell_type": "markdown",
   "metadata": {},
   "source": [
    "## Dùng bảng ảo CTE\n",
    "\n",
    "Khi dùng bảng áo, có các lưu ý format như sau:\n",
    "\n",
    "- Đẩy nội dung câu lệnh tạo bảng ảo vào trong (1 tab)\n",
    "- Đặt tên bảng ảo có ý nghĩa\n"
   ]
  },
  {
   "cell_type": "markdown",
   "metadata": {},
   "source": [
    "```sql\n",
    "-- Good\n",
    "with ordered_details as (\n",
    "\n",
    "    select\n",
    "        user_id,\n",
    "        name,\n",
    "        row_number() over (partition by user_id order by date_updated desc) as details_rank\n",
    "    from billingdaddy.billing_stored_details\n",
    "\n",
    "),\n",
    "\n",
    "first_updates as (\n",
    "\n",
    "    select \n",
    "        user_id, \n",
    "        name\n",
    "    from ordered_details\n",
    "    where \n",
    "        details_rank = 1\n",
    "\n",
    ")\n",
    "\n",
    "select * from first_updates\n",
    "\n",
    "```"
   ]
  },
  {
   "cell_type": "markdown",
   "metadata": {},
   "source": [
    "## Tài liệu tham khảo\n",
    "\n",
    "- https://github.com/mattm/sql-style-guide\n",
    "- https://about.gitlab.com/handbook/business-technology/data-team/platform/sql-style-guide/\n"
   ]
  }
 ],
 "metadata": {
  "anaconda-cloud": "",
  "kernelspec": {
   "display_name": "R",
   "langauge": "R",
   "name": "ir"
  },
  "language_info": {
   "codemirror_mode": "r",
   "file_extension": ".r",
   "mimetype": "text/x-r-source",
   "name": "R",
   "pygments_lexer": "r",
   "version": "3.4.1"
  }
 },
 "nbformat": 4,
 "nbformat_minor": 1
}
