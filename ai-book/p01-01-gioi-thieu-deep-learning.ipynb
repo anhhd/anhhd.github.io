{
 "cells": [
  {
   "cell_type": "markdown",
   "metadata": {},
   "source": [
    "# Giới thiệu về học sâu"
   ]
  },
  {
   "cell_type": "markdown",
   "metadata": {},
   "source": [
    "## Giới thiệu"
   ]
  },
  {
   "cell_type": "markdown",
   "metadata": {},
   "source": [
    "Thuật ngữ `Artificial Intelligence` được tạo ra từ những năm 1950s với mục tiêu tự động hóa các công việc mà con người phải thực hiện. Thời điểm đó, các kỹ sư viết ra các thuật toán dựa trên các quy tắc (`rule based`) để hướng dẫn máy tính chơi cờ với con người. Việc sử dụng `AI` với các rule cho trước như vậy được gọi là `symbolic AI`\n",
    "\n",
    "Khác với `symbolic AI`, `Machine Learning` được đưa ra để trả lời câu hỏi: \"Liệu máy móc có thể tự đưa ra các quy tắc (rules) hay không?\". Hai cách tiếp cận trên khác nhau cơ bản như hình dưới đây.\n",
    "\n",
    "![](image/nn-00.png)"
   ]
  },
  {
   "cell_type": "markdown",
   "metadata": {},
   "source": [
    "Từ 1960s đến giờ, có rất nhiều các các thuận toán khác nhau như `SVM` với `kernel` hay các thuật toán họ cây như `Random Forest` hay `XGBoost`. Các nhóm thuật toán này đều thực hiện rất tốt với các loại dữ liệu biến thiên ít thuần nhất với đặc thù có nhiều kiểu dữ liệu và biên độ biến thiên dữ liệu lớn. Ví dụ - dữ liệu khách hàng có thể có:\n",
    "\n",
    "- `income` - thu nhập từ 100 đến 1M USD\n",
    "- `transaction` - giao dịch có thể từ 1-10K USD\n",
    "- `age` - độ tuổi trong khoảng 18-90\n",
    "\n",
    "Với các nhóm dữ liệu này, các thuật toán họ cây đem lại kết quả rất tốt. \n",
    "\n",
    "Tuy nhiên, bên cạnh các kiểu dữ liệu có cấu trúc, các nguồn dữ liệu phi cấu trúc như text, voice, image, video ngày càng phát triển càng nhiều. Với các nhóm dữ liệu này, sự phát triển của các thuật toán `deep learning` đem lại các kết quả vượt trội.\n",
    "\n",
    "---\n",
    "\n",
    "Học sâu (`deep learning`) là một lĩnh vực con của học máy (`machine learning`), trong đó các mô hình mạng neuron nhiều lớp (deep neural networks) được sử dụng để học từ dữ liệu. Khác với các thuật toán machine learning truyền thống, deep learning có khả năng tự động trích xuất các đặc trưng từ dữ liệu mà không cần sự can thiệp của con người.\n",
    "\n",
    "Deep learning tạo sự khác biệt lớn so với các thuật toán ML thông thường bởi mô phỏng quá trình tương tác thông tin từ bộ não con người thông qua mạng neural. Dữ liệu đầu vào và đầu ra được gọi là input và output. Giữa 2 lớp này có nhiều lớp ẩn ở giữa (`hidden layer`) với nhiều node - đại diện cho 1 neural. Cấu trúc cơ bản của mạng neural như sau"
   ]
  },
  {
   "cell_type": "markdown",
   "metadata": {},
   "source": [
    "![](image/p01-neural-architecture.png)"
   ]
  },
  {
   "cell_type": "markdown",
   "metadata": {},
   "source": [
    "Các input đầu vào tại mỗi neural sẽ tổng hợp và trả ra một kết quả làm đầu vào cho neural tiếp theo trong mạng thần kinh. Hàm tính toán tại mỗi neural gọi là hàm kích hoạt (`activation function`). Ở lớp cuối cùng, tùy theo bài toán cần thực hiện sẽ có số lượng neural khác nhau - ví dụ, bài toán phân loại đơn giản sẽ có 2 neural, bài toán phân loại nhiều nhóm - số neural chính là số nhóm, ...\n",
    "\n",
    "So sánh giữa mạng neural của máy tính và con người có những khác biệt lớn như sau"
   ]
  },
  {
   "cell_type": "markdown",
   "metadata": {},
   "source": [
    "![](image/p01-01-neural-bio.png)"
   ]
  },
  {
   "cell_type": "markdown",
   "metadata": {},
   "source": [
    "Thuật toán deelp learning có thể xử lý một lượng lớn dữ liệu và thực hiện tốt trong các nhiệm vụ phức tạp như nhận diện hình ảnh, xử lý ngôn ngữ tự nhiên... Chữ `deep` trong `deep learning` thể hiện nhiều lớp trong một mạng neural thần kinh. Nhờ vào cấu trúc mạng neuron sâu, deep learning có thể học được các biểu diễn dữ liệu rất phức tạp và trừu tượng, điều mà các thuật toán machine learning truyền thống khó đạt được như nhận diện ảnh, tạo ra phản hồi, ... Dữ liệu đầu vào và đầu ra của một lớp hoặc một neural được gọi là `tensor` (mảng dữ liệu đa chiều dữ liệu)"
   ]
  },
  {
   "cell_type": "markdown",
   "metadata": {},
   "source": [
    "![](image/p01-vi-du-dl.png)"
   ]
  },
  {
   "cell_type": "markdown",
   "metadata": {},
   "source": [
    "Từ deep learning, phát triển thêm nhóm thuật toán và mô hình với GenAI, cho phép thực hiện các tác vụ như tạo hình ảnh, âm thanh, text nhanh chóng và đạt chất lượng rất cao.\n",
    "\n",
    "Mối quan hệ giữa Data Analytics, AI, ML, DL và GenAI như sau:\n",
    "\n",
    "![](image/p01-ai.png)"
   ]
  },
  {
   "cell_type": "markdown",
   "metadata": {},
   "source": [
    "Deep Learning so sánh với các thuật toán ML khác"
   ]
  },
  {
   "cell_type": "markdown",
   "metadata": {},
   "source": [
    "![](image/p01-01-dl-vs-ml.png)"
   ]
  },
  {
   "cell_type": "markdown",
   "metadata": {},
   "source": [
    "Một mạng neral network khi thực hiện sẽ qua các bước lớn:\n",
    "\n",
    "- Input X: Dữ liệu đầu vào cho mạng nơ-ron.\n",
    "- Layer (Data Transformation): Các tầng của mạng nơ-ron biến đổi dữ liệu qua các trọng số và hàm kích hoạt.\n",
    "- Predictions Y': Đầu ra dự đoán của mạng nơ-ron sau khi dữ liệu đã qua các tầng.\n",
    "- True Targets Y: Giá trị thực tế mà mạng nơ-ron cần dự đoán.\n",
    "- Loss Function: Hàm tính toán sự khác biệt giữa dự đoán (Y') và giá trị thực tế (Y).\n",
    "- Loss Score: Kết quả của hàm mất mát, thể hiện độ sai lệch của mô hình.\n",
    "- Optimizer: Bộ tối ưu hóa điều chỉnh trọng số dựa trên điểm mất mát để giảm sai lệch.\n",
    "- Weight Update: Quá trình cập nhật trọng số để cải thiện dự đoán của mô hình."
   ]
  },
  {
   "cell_type": "markdown",
   "metadata": {},
   "source": [
    "![](image/p01-dl-03.png)"
   ]
  },
  {
   "cell_type": "markdown",
   "metadata": {},
   "source": [
    "Mô hình deep learning có các ưu điểm vượt trội sau:\n",
    "\n",
    "- Cho phép động hóa `feature engineering`, tối ưu hóa cùng lúc nhiều lớp\n",
    "- Cho phép kế thừa mô hình để sử dụng cho các bộ dữ liệu khác nhau (`transfered learning`)"
   ]
  },
  {
   "cell_type": "markdown",
   "metadata": {},
   "source": [
    "## Mô hình cơ bản"
   ]
  },
  {
   "cell_type": "markdown",
   "metadata": {},
   "source": [
    "Ta xây dựng mô hình phân loại ảnh đơn giản với `keras` như sau."
   ]
  },
  {
   "cell_type": "markdown",
   "metadata": {},
   "source": [
    "- **Bước 1**: Xây dựng dữ liệu train & test"
   ]
  },
  {
   "cell_type": "code",
   "execution_count": 1,
   "metadata": {},
   "outputs": [],
   "source": [
    "from tensorflow.keras.datasets import mnist\n",
    "(train_images, train_labels), (test_images, test_labels) = mnist.load_data()\n",
    "\n",
    "train_images = train_images.reshape((60000, 28 * 28))\n",
    "train_images = train_images.astype(\"float32\") / 255\n",
    "test_images = test_images.reshape((10000, 28 * 28))\n",
    "test_images = test_images.astype(\"float32\") / 255"
   ]
  },
  {
   "cell_type": "markdown",
   "metadata": {},
   "source": [
    "- **Bước 2.1**: Xây dựng cấu trúc mạng neural đơn giản với 2 layers:\n",
    "     - Layer 1: 512 neural, và tất cả đều được liên kết vác node ở trước và sau\n",
    "     - Layer 2: 10 neural - tương ứng với 10 giá trị cần phân loại từ 0-9, với activate function là `softmax` có kết quả trong khoảng (0-1) để thể hiện xác suất."
   ]
  },
  {
   "cell_type": "code",
   "execution_count": 2,
   "metadata": {},
   "outputs": [],
   "source": [
    "from tensorflow import keras\n",
    "from tensorflow.keras import layers\n",
    "model = keras.Sequential([\n",
    "    layers.Dense(512, activation=\"relu\"),\n",
    "    layers.Dense(10, activation=\"softmax\")\n",
    "])"
   ]
  },
  {
   "cell_type": "markdown",
   "metadata": {},
   "source": [
    "- **Bước 2.2**: Xác định thuật toán tối ưu hóa, hàm loss và chỉ số đánh giá mô hình."
   ]
  },
  {
   "cell_type": "code",
   "execution_count": 3,
   "metadata": {},
   "outputs": [],
   "source": [
    "# Xây dựng mô hình\n",
    "model.compile(optimizer=\"rmsprop\",\n",
    "              loss=\"sparse_categorical_crossentropy\",\n",
    "              metrics=[\"accuracy\"])"
   ]
  },
  {
   "cell_type": "markdown",
   "metadata": {},
   "source": [
    "- **Bước 3**: Xây dựng mô hình"
   ]
  },
  {
   "cell_type": "code",
   "execution_count": 4,
   "metadata": {},
   "outputs": [
    {
     "name": "stdout",
     "output_type": "stream",
     "text": [
      "Epoch 1/5\n",
      "\u001b[1m469/469\u001b[0m \u001b[32m━━━━━━━━━━━━━━━━━━━━\u001b[0m\u001b[37m\u001b[0m \u001b[1m3s\u001b[0m 4ms/step - accuracy: 0.8705 - loss: 0.4426\n",
      "Epoch 2/5\n",
      "\u001b[1m469/469\u001b[0m \u001b[32m━━━━━━━━━━━━━━━━━━━━\u001b[0m\u001b[37m\u001b[0m \u001b[1m2s\u001b[0m 4ms/step - accuracy: 0.9669 - loss: 0.1154\n",
      "Epoch 3/5\n",
      "\u001b[1m469/469\u001b[0m \u001b[32m━━━━━━━━━━━━━━━━━━━━\u001b[0m\u001b[37m\u001b[0m \u001b[1m4s\u001b[0m 8ms/step - accuracy: 0.9785 - loss: 0.0730\n",
      "Epoch 4/5\n",
      "\u001b[1m469/469\u001b[0m \u001b[32m━━━━━━━━━━━━━━━━━━━━\u001b[0m\u001b[37m\u001b[0m \u001b[1m4s\u001b[0m 9ms/step - accuracy: 0.9857 - loss: 0.0507\n",
      "Epoch 5/5\n",
      "\u001b[1m469/469\u001b[0m \u001b[32m━━━━━━━━━━━━━━━━━━━━\u001b[0m\u001b[37m\u001b[0m \u001b[1m4s\u001b[0m 9ms/step - accuracy: 0.9894 - loss: 0.0355\n"
     ]
    },
    {
     "data": {
      "text/plain": [
       "<keras.src.callbacks.history.History at 0x21e76541810>"
      ]
     },
     "execution_count": 4,
     "metadata": {},
     "output_type": "execute_result"
    }
   ],
   "source": [
    "model.fit(train_images, train_labels, epochs=5, batch_size=128)"
   ]
  },
  {
   "cell_type": "code",
   "execution_count": 5,
   "metadata": {},
   "outputs": [
    {
     "name": "stdout",
     "output_type": "stream",
     "text": [
      "\u001b[1m1/1\u001b[0m \u001b[32m━━━━━━━━━━━━━━━━━━━━\u001b[0m\u001b[37m\u001b[0m \u001b[1m0s\u001b[0m 123ms/step\n"
     ]
    },
    {
     "data": {
      "text/plain": [
       "array([8.7756593e-09, 8.7886881e-10, 1.6251083e-06, 8.2889019e-06,\n",
       "       8.9369449e-12, 7.9078106e-08, 8.2524292e-14, 9.9998951e-01,\n",
       "       1.9572791e-08, 3.5411122e-07], dtype=float32)"
      ]
     },
     "execution_count": 5,
     "metadata": {},
     "output_type": "execute_result"
    }
   ],
   "source": [
    "test_digits = test_images[0:10]\n",
    "predictions = model.predict(test_digits)\n",
    "predictions[0]"
   ]
  },
  {
   "cell_type": "code",
   "execution_count": 6,
   "metadata": {},
   "outputs": [
    {
     "data": {
      "text/plain": [
       "7"
      ]
     },
     "execution_count": 6,
     "metadata": {},
     "output_type": "execute_result"
    }
   ],
   "source": [
    "# Kết quả\n",
    "predictions[0].argmax()"
   ]
  },
  {
   "cell_type": "code",
   "execution_count": 7,
   "metadata": {},
   "outputs": [
    {
     "name": "stdout",
     "output_type": "stream",
     "text": [
      "\u001b[1m313/313\u001b[0m \u001b[32m━━━━━━━━━━━━━━━━━━━━\u001b[0m\u001b[37m\u001b[0m \u001b[1m2s\u001b[0m 4ms/step - accuracy: 0.9768 - loss: 0.0763\n",
      "test_acc: 0.9793999791145325\n"
     ]
    }
   ],
   "source": [
    "# Dộ chính xác của mô hình\n",
    "test_loss, test_acc = model.evaluate(test_images, test_labels)\n",
    "print(f\"test_acc: {test_acc}\")"
   ]
  },
  {
   "cell_type": "markdown",
   "metadata": {},
   "source": [
    "## Tài liệu tham khảo"
   ]
  },
  {
   "cell_type": "markdown",
   "metadata": {},
   "source": [
    "- Deep Learning with Python - chapter 1, 2\n",
    "- [https://deeplearning.mit.edu/](https://deeplearning.mit.edu/)"
   ]
  }
 ],
 "metadata": {
  "kernelspec": {
   "display_name": "Python 3",
   "language": "python",
   "name": "python3"
  },
  "language_info": {
   "codemirror_mode": {
    "name": "ipython",
    "version": 3
   },
   "file_extension": ".py",
   "mimetype": "text/x-python",
   "name": "python",
   "nbconvert_exporter": "python",
   "pygments_lexer": "ipython3",
   "version": "3.11.5"
  }
 },
 "nbformat": 4,
 "nbformat_minor": 2
}
