{
 "cells": [
  {
   "cell_type": "markdown",
   "id": "cd0218bf-6a6c-4167-918d-970993b1e3d8",
   "metadata": {},
   "source": [
    "# Cơ chế tự chú ý"
   ]
  },
  {
   "cell_type": "markdown",
   "id": "e5e5a67d-cf28-4084-94b8-4ad484c9d1a3",
   "metadata": {},
   "source": [
    "Sau khi xử lý dữ liệu và biến đổi thành các vector nhúng (vector embedding) cho LLM, ta sẽ xây dựng cơ chế chú ý trong việc xây dựng các mô hình LLM"
   ]
  },
  {
   "cell_type": "markdown",
   "id": "37e74bd6-a0b5-49a7-a98d-401b03e73998",
   "metadata": {},
   "source": [
    "![](image/p02-03-coding-attention-mechanisms-01.webp)"
   ]
  },
  {
   "cell_type": "markdown",
   "id": "a4ca8ccf-8fc2-407a-9c26-76d86b76ace9",
   "metadata": {},
   "source": [
    "Có 4 loại cơ chế tự chú ý:\n",
    "\n",
    "- Simplified self-attention\n",
    "- Self attention\n",
    "- Causal attention\n",
    "- Multi-head attention"
   ]
  },
  {
   "cell_type": "markdown",
   "id": "98d84056-ebd0-448d-babb-7fec5b15c6f7",
   "metadata": {},
   "source": [
    "![](image/p02-03-coding-attention-mechanisms-02a.webp)"
   ]
  },
  {
   "cell_type": "markdown",
   "id": "73b554bd-d754-417a-b514-2987494c3f65",
   "metadata": {},
   "source": [
    "---\n",
    "\n",
    "Khi không có cơ chế tự chú ý, giả sử khi cần phát triển mô hình dịch thuật, máy tính sẽ rất dễ dàng dịch `word-by-word` và sẽ dịch sai ngữ pháp và thứ tự các từ trong ngôn ngữ cần dịch như sau"
   ]
  },
  {
   "cell_type": "markdown",
   "id": "392210ec-2089-4460-81ed-7048172347bd",
   "metadata": {},
   "source": [
    "![](image/p02-03-coding-attention-mechanisms-02.webp)"
   ]
  },
  {
   "cell_type": "markdown",
   "id": "cb480b92-c451-46e1-a710-db3fd180b848",
   "metadata": {},
   "source": []
  }
 ],
 "metadata": {
  "kernelspec": {
   "display_name": "saturn (Python 3)",
   "language": "python",
   "name": "python3"
  },
  "language_info": {
   "codemirror_mode": {
    "name": "ipython",
    "version": 3
   },
   "file_extension": ".py",
   "mimetype": "text/x-python",
   "name": "python",
   "nbconvert_exporter": "python",
   "pygments_lexer": "ipython3",
   "version": "3.11.10"
  }
 },
 "nbformat": 4,
 "nbformat_minor": 5
}
