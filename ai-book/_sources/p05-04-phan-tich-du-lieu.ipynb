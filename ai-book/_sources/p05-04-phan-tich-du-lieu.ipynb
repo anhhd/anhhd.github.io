{
 "cells": [
  {
   "cell_type": "markdown",
   "id": "19ac9e56-7f25-4407-b53a-2be29312f53d",
   "metadata": {},
   "source": [
    "# Use case - truy vấn & phân tích dữ liệu"
   ]
  },
  {
   "cell_type": "markdown",
   "id": "557e56ff-e966-44c7-b6de-da9b94bba416",
   "metadata": {},
   "source": [
    "## Langchain agent"
   ]
  },
  {
   "cell_type": "markdown",
   "id": "af73472d-8e95-408c-a851-e9814c592144",
   "metadata": {},
   "source": [
    "Ta có thể sử dụng `langchain` trong việc tự động hóa phân tích số liệu"
   ]
  },
  {
   "cell_type": "code",
   "execution_count": 2,
   "id": "bc43fb9c-6c21-41b3-841d-be75f97e6860",
   "metadata": {
    "execution": {
     "iopub.execute_input": "2025-01-15T21:28:25.801689Z",
     "iopub.status.busy": "2025-01-15T21:28:25.801344Z",
     "iopub.status.idle": "2025-01-15T21:28:25.814489Z",
     "shell.execute_reply": "2025-01-15T21:28:25.813863Z",
     "shell.execute_reply.started": "2025-01-15T21:28:25.801661Z"
    }
   },
   "outputs": [],
   "source": [
    "from dotenv import load_dotenv\n",
    "import os\n",
    "\n",
    "load_dotenv()\n",
    "\n",
    "openai_api_key = os.getenv('OPENAI_API_KEY', 'YourAPIKeyIfNotSet')"
   ]
  },
  {
   "cell_type": "code",
   "execution_count": 8,
   "id": "7bf0032f-134d-434e-9cf8-b79b3eee4927",
   "metadata": {
    "execution": {
     "iopub.execute_input": "2025-01-15T14:33:51.095340Z",
     "iopub.status.busy": "2025-01-15T14:33:51.095008Z",
     "iopub.status.idle": "2025-01-15T14:33:54.173626Z",
     "shell.execute_reply": "2025-01-15T14:33:54.172757Z",
     "shell.execute_reply.started": "2025-01-15T14:33:51.095316Z"
    }
   },
   "outputs": [],
   "source": [
    "%%capture\n",
    "!pip install langchain_experimental\n",
    "!pip install langchain_community"
   ]
  },
  {
   "cell_type": "code",
   "execution_count": 28,
   "id": "1424cdc3-ad1f-418f-abf9-1d79457ab77d",
   "metadata": {
    "execution": {
     "iopub.execute_input": "2025-01-15T14:52:01.596883Z",
     "iopub.status.busy": "2025-01-15T14:52:01.596546Z",
     "iopub.status.idle": "2025-01-15T14:52:01.620084Z",
     "shell.execute_reply": "2025-01-15T14:52:01.619432Z",
     "shell.execute_reply.started": "2025-01-15T14:52:01.596859Z"
    }
   },
   "outputs": [],
   "source": [
    "from langchain_openai import OpenAI\n",
    "from langchain_openai import ChatOpenAI\n",
    "from langchain_experimental.sql import SQLDatabaseChain\n",
    "from langchain_community.utilities.sql_database import SQLDatabase\n",
    "llm = ChatOpenAI(temperature=0, model_name = 'gpt-3.5-turbo')"
   ]
  },
  {
   "cell_type": "code",
   "execution_count": 22,
   "id": "f57c7a76-badf-470d-99c2-2e58b3b95100",
   "metadata": {
    "execution": {
     "iopub.execute_input": "2025-01-15T14:47:02.793581Z",
     "iopub.status.busy": "2025-01-15T14:47:02.793255Z",
     "iopub.status.idle": "2025-01-15T14:47:03.862690Z",
     "shell.execute_reply": "2025-01-15T14:47:03.862053Z",
     "shell.execute_reply.started": "2025-01-15T14:47:02.793559Z"
    }
   },
   "outputs": [],
   "source": [
    "import os\n",
    "import sqlite3\n",
    "from langchain.agents import *\n",
    "from langchain.sql_database import SQLDatabase\n",
    "from langchain.chains import create_sql_query_chain\n",
    "from langchain_community.llms import OpenAI\n",
    "from langchain_openai import ChatOpenAI"
   ]
  },
  {
   "cell_type": "markdown",
   "id": "c0343183-7e59-4205-8999-269dac94856f",
   "metadata": {},
   "source": [
    "Ta có thể truy vấn dữ liệu database"
   ]
  },
  {
   "cell_type": "code",
   "execution_count": 13,
   "id": "1f4768da-6e05-4d14-aff0-de9ad05fb4d0",
   "metadata": {
    "execution": {
     "iopub.execute_input": "2025-01-15T14:38:27.745279Z",
     "iopub.status.busy": "2025-01-15T14:38:27.744810Z",
     "iopub.status.idle": "2025-01-15T14:38:27.753215Z",
     "shell.execute_reply": "2025-01-15T14:38:27.752592Z",
     "shell.execute_reply.started": "2025-01-15T14:38:27.745256Z"
    }
   },
   "outputs": [],
   "source": [
    "db_path = 'data/san_francisco_trees.db'\n",
    "db = SQLDatabase.from_uri(f\"sqlite:///{sqlite_db_path}\")"
   ]
  },
  {
   "cell_type": "code",
   "execution_count": 12,
   "id": "b6aa3817-9caf-40b3-925b-105abd49889d",
   "metadata": {
    "execution": {
     "iopub.execute_input": "2025-01-15T14:37:54.820203Z",
     "iopub.status.busy": "2025-01-15T14:37:54.819882Z",
     "iopub.status.idle": "2025-01-15T14:37:57.045909Z",
     "shell.execute_reply": "2025-01-15T14:37:57.045068Z",
     "shell.execute_reply.started": "2025-01-15T14:37:54.820180Z"
    }
   },
   "outputs": [],
   "source": [
    "# Read query\n",
    "import sqlite3\n",
    "import pandas as pd"
   ]
  },
  {
   "cell_type": "code",
   "execution_count": 15,
   "id": "72bf0985-0a8b-4bfc-9ee4-1f7013eee73e",
   "metadata": {
    "execution": {
     "iopub.execute_input": "2025-01-15T14:38:47.423528Z",
     "iopub.status.busy": "2025-01-15T14:38:47.423205Z",
     "iopub.status.idle": "2025-01-15T14:38:47.430301Z",
     "shell.execute_reply": "2025-01-15T14:38:47.429443Z",
     "shell.execute_reply.started": "2025-01-15T14:38:47.423504Z"
    }
   },
   "outputs": [
    {
     "name": "stdout",
     "output_type": "stream",
     "text": [
      "Tables in the database:\n",
      "      name\n",
      "0  SFTrees\n"
     ]
    }
   ],
   "source": [
    "# Kiểm tra các tables\n",
    "conn = sqlite3.connect(db_path)\n",
    "\n",
    "# Query to list all tables in the database\n",
    "query = \"SELECT name FROM sqlite_master WHERE type='table';\"\n",
    "tables = pd.read_sql_query(query, conn)\n",
    "\n",
    "# Display the list of tables\n",
    "print(\"Tables in the database:\")\n",
    "print(tables)"
   ]
  },
  {
   "cell_type": "code",
   "execution_count": 18,
   "id": "d394c873-b3bd-4252-aa9e-c52912d69955",
   "metadata": {
    "execution": {
     "iopub.execute_input": "2025-01-15T14:40:53.560410Z",
     "iopub.status.busy": "2025-01-15T14:40:53.560051Z",
     "iopub.status.idle": "2025-01-15T14:40:53.896110Z",
     "shell.execute_reply": "2025-01-15T14:40:53.895515Z",
     "shell.execute_reply.started": "2025-01-15T14:40:53.560386Z"
    }
   },
   "outputs": [
    {
     "data": {
      "text/html": [
       "<div>\n",
       "<style scoped>\n",
       "    .dataframe tbody tr th:only-of-type {\n",
       "        vertical-align: middle;\n",
       "    }\n",
       "\n",
       "    .dataframe tbody tr th {\n",
       "        vertical-align: top;\n",
       "    }\n",
       "\n",
       "    .dataframe thead th {\n",
       "        text-align: right;\n",
       "    }\n",
       "</style>\n",
       "<table border=\"1\" class=\"dataframe\">\n",
       "  <thead>\n",
       "    <tr style=\"text-align: right;\">\n",
       "      <th></th>\n",
       "      <th>TreeID</th>\n",
       "      <th>qSpecies</th>\n",
       "      <th>qAddress</th>\n",
       "      <th>PlantType</th>\n",
       "    </tr>\n",
       "  </thead>\n",
       "  <tbody>\n",
       "    <tr>\n",
       "      <th>0</th>\n",
       "      <td>168225</td>\n",
       "      <td>Arbutus 'Marina' :: Hybrid Strawberry Tree</td>\n",
       "      <td>2547 Vallejo St</td>\n",
       "      <td>Tree</td>\n",
       "    </tr>\n",
       "    <tr>\n",
       "      <th>1</th>\n",
       "      <td>168228</td>\n",
       "      <td>Arbutus 'Marina' :: Hybrid Strawberry Tree</td>\n",
       "      <td>2547 Vallejo St</td>\n",
       "      <td>Tree</td>\n",
       "    </tr>\n",
       "    <tr>\n",
       "      <th>2</th>\n",
       "      <td>189160</td>\n",
       "      <td>Afrocarpus gracilior :: Fern Pine</td>\n",
       "      <td>100 Kissling St</td>\n",
       "      <td>Tree</td>\n",
       "    </tr>\n",
       "    <tr>\n",
       "      <th>3</th>\n",
       "      <td>189158</td>\n",
       "      <td>Afrocarpus gracilior :: Fern Pine</td>\n",
       "      <td>100 Kissling St</td>\n",
       "      <td>Tree</td>\n",
       "    </tr>\n",
       "    <tr>\n",
       "      <th>4</th>\n",
       "      <td>189161</td>\n",
       "      <td>Afrocarpus gracilior :: Fern Pine</td>\n",
       "      <td>100 Kissling St</td>\n",
       "      <td>Tree</td>\n",
       "    </tr>\n",
       "  </tbody>\n",
       "</table>\n",
       "</div>"
      ],
      "text/plain": [
       "   TreeID                                    qSpecies         qAddress  \\\n",
       "0  168225  Arbutus 'Marina' :: Hybrid Strawberry Tree  2547 Vallejo St   \n",
       "1  168228  Arbutus 'Marina' :: Hybrid Strawberry Tree  2547 Vallejo St   \n",
       "2  189160           Afrocarpus gracilior :: Fern Pine  100 Kissling St   \n",
       "3  189158           Afrocarpus gracilior :: Fern Pine  100 Kissling St   \n",
       "4  189161           Afrocarpus gracilior :: Fern Pine  100 Kissling St   \n",
       "\n",
       "  PlantType  \n",
       "0      Tree  \n",
       "1      Tree  \n",
       "2      Tree  \n",
       "3      Tree  \n",
       "4      Tree  "
      ]
     },
     "execution_count": 18,
     "metadata": {},
     "output_type": "execute_result"
    }
   ],
   "source": [
    "query = \"\"\"\n",
    "SELECT * FROM SFTrees;\n",
    "\"\"\"\n",
    "df = pd.read_sql_query(query, conn)\n",
    "df.head()"
   ]
  },
  {
   "cell_type": "markdown",
   "id": "aa215f5c-7356-4bf8-9015-da37ba15be3a",
   "metadata": {},
   "source": [
    "Tạo chain với SQLDatabase"
   ]
  },
  {
   "cell_type": "code",
   "execution_count": 29,
   "id": "15e93820-8ad2-4f9a-af9c-d6b7b072b437",
   "metadata": {
    "execution": {
     "iopub.execute_input": "2025-01-15T14:52:08.974012Z",
     "iopub.status.busy": "2025-01-15T14:52:08.973680Z",
     "iopub.status.idle": "2025-01-15T14:52:08.977779Z",
     "shell.execute_reply": "2025-01-15T14:52:08.976855Z",
     "shell.execute_reply.started": "2025-01-15T14:52:08.973988Z"
    }
   },
   "outputs": [],
   "source": [
    "chain = create_sql_query_chain(llm, db)"
   ]
  },
  {
   "cell_type": "code",
   "execution_count": 31,
   "id": "afd4f0b2-9b88-4844-ad71-cc1a02bd7d0a",
   "metadata": {
    "execution": {
     "iopub.execute_input": "2025-01-15T14:53:11.110546Z",
     "iopub.status.busy": "2025-01-15T14:53:11.110229Z",
     "iopub.status.idle": "2025-01-15T14:53:12.727205Z",
     "shell.execute_reply": "2025-01-15T14:53:12.726547Z",
     "shell.execute_reply.started": "2025-01-15T14:53:11.110524Z"
    }
   },
   "outputs": [
    {
     "data": {
      "text/plain": [
       "\"SELECT COUNT(DISTINCT qSpecies) AS NumSpecies\\nFROM SFTrees\\nWHERE qAddress LIKE '%San Francisco%'\""
      ]
     },
     "execution_count": 31,
     "metadata": {},
     "output_type": "execute_result"
    }
   ],
   "source": [
    "chain.invoke({\"question\": \"How many Species of trees are there in San Francisco?\"})"
   ]
  },
  {
   "cell_type": "markdown",
   "id": "576257ea-b2e1-4476-a466-1d5cf46d3b20",
   "metadata": {},
   "source": [
    "Với invoke, dữ liệu chưa thực sự thực hiện code"
   ]
  },
  {
   "cell_type": "code",
   "execution_count": 32,
   "id": "66daf558-5963-49ff-9b9c-c07d4a873565",
   "metadata": {
    "execution": {
     "iopub.execute_input": "2025-01-15T14:54:56.417404Z",
     "iopub.status.busy": "2025-01-15T14:54:56.417075Z",
     "iopub.status.idle": "2025-01-15T14:55:19.475854Z",
     "shell.execute_reply": "2025-01-15T14:55:19.475272Z",
     "shell.execute_reply.started": "2025-01-15T14:54:56.417381Z"
    }
   },
   "outputs": [
    {
     "name": "stderr",
     "output_type": "stream",
     "text": [
      "/tmp/ipykernel_1182/3184071199.py:2: LangChainDeprecationWarning: The method `Chain.run` was deprecated in langchain 0.1.0 and will be removed in 1.0. Use :meth:`~invoke` instead.\n",
      "  agent_executor.run(\"How many Species of trees are there in San Francisco?\")\n"
     ]
    },
    {
     "name": "stdout",
     "output_type": "stream",
     "text": [
      "\n",
      "\n",
      "\u001b[1m> Entering new SQL Agent Executor chain...\u001b[0m\n",
      "\u001b[32;1m\u001b[1;3m\n",
      "Invoking: `sql_db_list_tables` with `{}`\n",
      "\n",
      "\n",
      "\u001b[0m\u001b[38;5;200m\u001b[1;3mSFTrees\u001b[0m\u001b[32;1m\u001b[1;3m\n",
      "Invoking: `sql_db_schema` with `{'table_names': 'SFTrees'}`\n",
      "\n",
      "\n",
      "\u001b[0m\u001b[33;1m\u001b[1;3m\n",
      "CREATE TABLE \"SFTrees\" (\n",
      "\t\"TreeID\" INTEGER, \n",
      "\t\"qSpecies\" TEXT, \n",
      "\t\"qAddress\" TEXT, \n",
      "\t\"PlantType\" TEXT\n",
      ")\n",
      "\n",
      "/*\n",
      "3 rows from SFTrees table:\n",
      "TreeID\tqSpecies\tqAddress\tPlantType\n",
      "168225\tArbutus 'Marina' :: Hybrid Strawberry Tree\t2547 Vallejo St\tTree\n",
      "168228\tArbutus 'Marina' :: Hybrid Strawberry Tree\t2547 Vallejo St\tTree\n",
      "189160\tAfrocarpus gracilior :: Fern Pine\t100 Kissling St\tTree\n",
      "*/\u001b[0m\u001b[32;1m\u001b[1;3m\n",
      "Invoking: `sql_db_query` with `{'query': 'SELECT DISTINCT qSpecies FROM SFTrees'}`\n",
      "\n",
      "\n",
      "\u001b[0m\u001b[36;1m\u001b[1;3m[(\"Arbutus 'Marina' :: Hybrid Strawberry Tree\",), ('Afrocarpus gracilior :: Fern Pine',), (\"Thuja occidentalis 'Emerald' :: Emerald Arborvitae\",), (\"Magnolia grandiflora 'Little Gem' :: Little Gem Magnolia\",), ('Platanus x hispanica :: Sycamore: London Plane',), ('Ulmus parvifolia :: Chinese Elm',), ('Eriobotrya deflexa :: Bronze Loquat',), ('Leptospermum laevigatum :: Australian Tea Tree',), (\"Olea europaea 'Fruitless' :: Fruitless Olive\",), ('Ficus rubiginosa :: Port Jackson Fig',), ('Cycas revoluta :: Sago palm',), ('Lophostemon confertus :: Brisbane Box',), ('Podocarpus gracilor :: Fern Pine',), ('Ligustrum lucidum :: Glossy Privet',), ('Tristaniopsis laurina :: Swamp Myrtle',), ('Prunus cerasifera :: Cherry Plum',), ('Ginkgo biloba :: Maidenhair Tree',), ('Pyrus calleryana :: Ornamental Pear',), (\"Morus alba 'Fruitless' :: Fruitless Mulberry\",), ('Magnolia grandiflora :: Southern Magnolia',), ('Pittosporum undulatum :: Victorian Box',), (':: Tree',), ('Carpinus betulus :: European Hornbeam',), ('Ilex aquifolium :: European Holly',), ('Eucalyptus citriodora :: Lemon scented eucalyptus',), ('Lagunaria patersonii :: Primrose Tree',), ('Prunus laurocerasus :: English laurel',), ('Cercis occidentalis :: Western Redbud',), ('Prunus serrulata :: Ornamental Cherry',), ('Maytenus boaria :: Mayten',), ('Arbutus unedo :: Strawberry Tree',), ('Callistemon citrinus :: Lemon Bottlebrush',), (\"Ficus microcarpa nitida 'Green Gem' :: Indian Laurel Fig Tree 'Green Gem'\",), ('Cordyline australis :: Dracena Palm',), ('Quercus suber :: Cork Oak',), ('Platanus racemosa :: California Sycamore',), ('Metrosideros excelsa :: New Zealand Xmas Tree',), ('Quercus tomentella :: Island oak',), ('Fraxinus spp :: Ash Spp',), ('Potential Site :: Potential Site',), ('Quercus spp :: Oak',), ('Platanus occidentalis :: American sycamore',), ('Hakea suaveolens :: Sweet Hakea Tree',), ('Acacia melanoxylon :: Blackwood Acacia',), ('Ligustrum japonicum :: Japanese Privet',), ('Liquidambar styraciflua :: American Sweet Gum',), ('Ficus retusa nitida :: Banyan Fig',), ('Acacia decurrens :: Acacia: Silver Wattle',), ('Cupressus macrocarpa :: Monterey Cypress',), ('Archontophoenix cunninghamiana :: King Palm',), ('Rhamnus alaternus :: Italian Buckthorn',), ('Schinus molle :: California Pepper',), ('Crataegus phaenopyrum :: Washington Hawthorn',), ('Elaeocarpus decipiens :: Japanese Blueberry Tree',), ('Aesculus x carnea :: Red Horse Chestnut',), (\"Platanus x hispanica 'Columbia' :: Columbia Hybrid Plane Tree\",), ('Olea Majestic Beauty ::',), ('Eucalyptus camaldulensis :: River Red Gum',), ('Pinus pinea :: Italian Stone Pine',), ('Myoporum laetum :: Myoporum',), (\"Magnolia grandiflora 'Saint Mary' :: Saint Mary Magnolia\",), ('Phoenix dactylifera :: Date Palm',), ('Pinus radiata :: Monterey Pine',), ('Acer rubrum :: Red Maple',), ('Pyrus kawakamii :: Evergreen Pear',), ('Corymbia maculata :: Spotted Gum',), ('Schinus terebinthifolius :: Brazilian Pepper',), ('Acacia stenophylla :: Shoestring Acacia',), ('Eriobotrya japonica :: Edible Loquat',), ('Hymenosporum flavum :: Sweetshade',), ('Tree(s) ::',), ('Acacia spp :: Acacia Spp',), ('Jacaranda mimosifolia :: Jacaranda',), (\"Acer rubrum 'October Glory' :: Red October Glory Maple\",), (\"Olea europaea 'Wilsonii' :: Wilson Olive Semi-fruitless\",), ('Melaleuca ericifolia :: Heath Melaleuca',), ('Prunus caroliniana :: Carolina Cherry Laurel',), ('Agonis flexuosa :: Peppermint Willow',), ('Acer buergeranum :: Trident Maple',), ('Tilia tomentosa :: Silver Linden',), ('Callistemon viminalis :: Weeping Bottlebrush',), ('Lyonothamnus floribundus subsp. asplenifolius :: Santa Cruz Ironwood',), ('Tristania conferta ::',), ('Magnolia champaca :: Champa',), ('Quercus agrifolia :: Coast Live Oak',), (\"Acer rubrum 'Armstrong' :: Armstrong Red Maple\",), ('Laurus nobilis :: Sweet Bay: Grecian Laurel',), ('Acer palmatum :: Japanese Maple',), ('Photinia fraseri :: Photinia: Chinese photinia',), (\"Tristaniopsis laurina 'Elegant' :: Small-leaf Tristania 'Elegant'\",), ('Quercus virginiana :: Southern Live Oak',), ('Corymbia ficifolia :: Red Flowering Gum',), ('Griselinia lucida :: Griselinia',), (\"Dodonaea viscosa 'Purpurea' :: Purple Hopseed Bush\",), (\"Ginkgo biloba 'Autumn Gold' :: Ginkgo: Autumn Gold\",), (\"Ulmus carpinifolia 'Frontier' :: Frontier Elm 'Frontier'\",), ('Geijera parviflora :: Australian Willow',), ('Tilia cordata :: Littleleaf Linden',), (\"Laurus x 'Saratoga' :: Hybrid Laurel\",), ('Melaleuca quinquenervia :: Cajeput',), ('Juniperus chinensis :: Juniper',), ('Melaleuca styphelliodes :: Paperbark Tree',), (\"Prunus serrulata 'Kwanzan' :: Kwanzan Flowering Cherry\",), ('Acer japonicum :: Japanese Maple',), ('Araucaria heterophylla :: Norfolk Island Pine',), ('Washingtonia robusta :: Mexican Fan Palm',), ('Lagerstroemia indica :: Crape Myrtle',), ('Magnolia doltsopa :: Himalayan Magnolia',), ('Ficus microcarpa :: Chinese Banyan',), ('Syzygium paniculatum :: Brush Cherry',), ('Pinus thunbergii :: Japanese Black Pine',), ('Persea americana :: Avocado',), (\"Maytenus boaria 'Green Showers' :: Meyten Tree 'Green Showers'\",), (\"Ceanothus 'Ray Hartman' :: California Lilac 'Ray Hartman'\",), (\"Magnolia grandiflora 'Russet' :: Russet Magnolia\",), (\"Aesculus x carnea 'Briotii' :: Ruby Horse Chestnut\",), (\"Magnolia grandiflora 'Majestic Beauty' :: Majestic Beauty Magnolia\",), (\"Rhaphiolepis Majestic Beauty :: Indian Hawthorn  'Majestic Beau'\",), (\"Olea europaea 'Swan Hill' :: Olive\",), ('Cupressus spp :: Cypress species',), ('Phoenix canariensis :: Canary Island Date Palm',), ('Fraxinus oxycarpa :: Ash',), ('Crataegus laevigata :: English Hawthorn',), (\"Acacia baileyana :: Bailey's Acacia\",), ('Olea europaea :: Olive Tree',), ('Pistacia chinensis :: Chinese Pistache',), (\"Magnolia grandiflora 'D.D. Blanchard' :: D.D. Blanchard Southern Magnolia\",), ('Syzygium australe :: Eugenia',), (\"Eriobotrya deflexa 'Coppertone' :: Coppertone Loquat\",), ('patanus racemosa ::',), (\"Olea europaea 'Majestic Beauty' :: Majestic Beauty Fruitless Olive\",), ('Eucalyptus robusta :: Swamp mahogany',), (\"Aesculus x carnea 'O'Neill' :: O'Neill Red Horse Chestnut\",), ('Cupressocyparis leylandii :: Leyland Cypress',), ('Eucalyptus polyanthemos :: Silver Dollar Eucalyptus',), (\"Prunus cerasifera 'Krauter vesuvius' :: Purple Leaf Plum Krauter Vesuvius\",), ('Tilia americana :: Basswood Linden',), ('Eucalyptus sideroxylon :: Red Ironbark',), ('Betula pendula :: European White Birch',), ('Cassia leptophylla :: Gold Medallion Tree',), ('Banksia integrifolia :: Coast Banksia',), ('Sambucus species :: Elderberry',), ('Taxus baccata :: Irish Yew',), ('::',), ('Calocedrus decurrens :: Incense Cedar',), ('Pittosporum crassifolium :: Karo Tree',), ('Ulmus americana :: American Elm',), ('Alnus rhombifolia :: White Alder',), ('Acer spp :: Maple',), ('Melaleuca spp :: Melaleuca spp',), ('Eucalyptus Spp :: Eucalyptus',), ('Melaleuca linariifolia :: Flaxleaf Paperbark',), ('Pinus Spp :: Pine Spp',), ('Robinia x ambigua :: Locust',), ('Liriodendron tulipifera :: Tulip Tree',), ('Pinus canariensis :: Canary Island Pine',), ('Cedrus deodara :: Deodar Cedar',), ('Eucalyptus globulus :: Blue Gum',), (\"Fraxinus velutina 'Glabra' :: Arizona Ash\",), ('Ulmus pumila :: Siberian Elm',), ('Grevillea robusta :: Silk Oak Tree',), ('Privet ::',), ('Quercus ilex :: Holly Oak',), ('Ficus Spp. ::',), ('Butia capitata :: Pindo Palm',), ('Yucca gloriosa :: Spanish Dagger',), ('Pyrus spp :: Pear Tree',), ('Robinia pseudoacacia :: Black Locust',), ('Malus :: Crab Apple',), ('Ficus nitida :: Laurel Fig',), (\"Populus nigra 'Italica' :: Lombardy Poplar\",), ('Shrub :: Shrub',), ('Pittosporum eugenioides :: Tarata',), ('Prunus spp :: Cherry',), ('Sequoia sempervirens :: Coast Redwood',), ('Ilex spp :: Holly Species',), ('Trachycarpus fortunei :: Windmill Palm',), (\"Robinia x ambigua 'Purple Robe' :: Purple Robe Locust\",), ('Acer saccharinum :: Silver Maple',), ('Melaleuca nesophila :: Pink Melaleuca',), (\"Platanus x hispanica 'Yarwood' :: Yarwood Sycamore\",), ('Ceratonia siliqua :: Carob',), ('Prunus x yedoensis :: Yoshino Cherry',), ('Malus floribunda :: Showy Crab Apple: Japanese Crabapple',), ('Cinnamomum camphora :: Camphor Tree',), (\"Pyrus calleryana 'Aristocrat' :: Aristocrat Callery Pear\",), (\"Ulmus parvifolia 'Drake' :: Drake's Chinese Elm\",), ('Pseudopanax lessonii :: Five finger',), ('Koelreuteria bipinnata :: Chinese Flame Tree',), (\"Ulmus 'Frontier' :: Frontier Elm\",), ('Dracaena draco :: Dragon Tree',), ('Fraxinus uhdei :: Shamel Ash: Evergreen Ash',), ('Ceiba speciosa :: Silk floss',), ('Pinus halepensis :: Allepo Pine',), ('Rhus lancea :: African Sumac',), (\"Magnolia grandiflora 'Samuel Sommer' :: Samuel Sommer Magnolia\",), (\"Fraxinus oxycarpa 'Raywood' :: Raywood Ash\",), ('Syagrus romanzoffianum :: Queen Palm',), ('Leptospermum scoparium :: New Zealand Tea Tree',), (\"Acer rubrum 'Red Sunset' :: Red Swamp Maple\",), (\"Leptospermum scoparium 'Ruby Glow' :: New Zealand Ruby Glow Tea Tree\",), ('Hymenosporum flavum :: Sweet Shade',), ('Photinia fraseri :: Photinia Tree',), ('Prunus blireiana :: Flowering Plum',), (\"Pyrus calleryana 'Bradford' :: Ornamental Pear: Bradford\",), ('Rhaphiolepis indica :: India Hawthorn',), ('Nyssa sylvatica :: Tupelo: Sour Gum',), ('Salix spp :: Willow',), ('Yucca elephantipes :: Giant Yucca',), ('Koelreuteria paniculata :: Golden Rain Tree',), ('Palm (unknown Genus) :: Palm Spp',), (\"Prunus domestica 'Mariposa' :: Mariposa Plum\",), ('Cupaniopsis anacardioides :: Carrotwood',), ('Albizia julibrissin :: Mimosa Silk Tree',), ('Acer x freemanii :: Freeman Maple',), ('Cotoneaster SPP :: Cotoneaster',), ('Cercis canadensis :: Eastern Redbud',), ('Prunus persica :: Peach',), ('Citrus spp :: Lemon: Orange: Lime',), (\"Pyrus calleryana 'Chanticleer' :: Ornamental Pear Tree 'Chanticleer'\",), ('Archontophoenix myolensis :: Myola palm',), ('Brugmansia spp :: Angel trumpet',), (\"Ilex altaclarensis 'Wilsonii' :: Wilson Holly Tree\",), ('Celtis sinensis :: Chinese Hackberry',), (\"Agonis flexuosa 'After Dark' :: Peppermint willow 'After Dark'\",), ('Juniperus silicicola :: Southern red cedar',), ('Cupressus sempervirens :: Italian Cypress',), ('Washingtonia filifera :: California Fan Palm',), ('Dodonaea viscosa :: Hop Bush',), ('Chamaerops humilis :: Mediterranean Fan Palm',), ('Brahea edulis :: Guadalupe Palm',), (\"Prunus cerasifera 'Atropurpurea' :: Purple-Leaf Plum\",), ('Chiranthodendron pentadactylon :: Monkey Hand Tree',), ('Acacia longifolia :: Golden Wattle',), ('Sapium sebiferum :: Chinese Tallow',), (\"Pyrus pyrifolia 'Sainseiki' :: Asian Pear 'Sainseiki'\",), ('Bambusa spp :: Bamboo Species',), ('Podocarpus macrophyllus :: Yew Pine',), ('Casuarina cunninghamiana :: Horsetail pine',), ('Acer macrophyllum :: Big Leaf Maple',), (\"Prunus subhirtella 'Pendula' :: Weeping Cherry\",), ('Zelkova serrata :: Sawleaf Zelkova',), ('Quillaja saponaria :: Chilean Soapbark',), ('Celtis australis :: European Hackberry',), ('Betula spp :: Birch',), ('Ficus macrophylla :: Morton Bay Fig',), (\"Prunus serrulata 'Royal Burgundy' :: Royal Burgundy Flowering Cherry Tree\",), (\"Eucalyptus nicholii :: Nichol's Willow-Leafed Peppermint\",), ('Tecoma stans :: Trumpet bush',), ('Ulmus spp :: Elm Spp',), ('Grevillea spp :: Silkoak species',), ('Prunus armeniaca :: Apricot',), ('Schefflera species :: Umbrella tree',), ('Pittosporum spp :: Pittosporum spp',), ('Psidium guajava :: Guava tree',), (\"Liquidambar styraciflua 'Rotundiloba' :: Roundleaf sweetgum\",), ('Acer ginnela :: Amur Maple',), ('Populus tremuloides :: Quaking aspen',), ('Vitex lucens :: Puriri tree',), ('Nerium oleander :: Oleander',), ('Pittosporum tenuifolium :: Tawhiwhi Pittosporum',), ('Azara microphylla :: Little-Leaf Azara',), ('Cedrus atlantica :: Atlas Cedar',), (\"Grevillea 'Red Hooks' :: Silk Oak Tree 'Red Hooks'\",), ('Fraxinus americana :: American Ash',), ('Araucaria columnaris :: Coral reef araucaria',), ('Prunus spp :: Flowering Plum',), (\"Citrus × limon 'Lisbon' :: Lisbon Lemon Tree\",), (\"Pyrus calleryana 'New Bradford' :: New Bradford Pear\",), ('Pittosporum tobira :: Japanese Mockorange',), (\"Ulmus 'Prospector' :: Prospector Elm\",), ('Ceanothus Sps :: California lilac',), ('Pseudotsuga menziesii :: Douglas Fir',), ('Quercus palustris :: Pin Oak',), (\"Prunus serrulata 'Mt. Fuji' :: Mt. Fuji Cherry Tree\",), ('Aesculus californica :: California Buckeye',), ('Cupressus arizonica :: Arizona Cypress',), ('Eucalyptus macarthuri :: Camden Wollybutt',), ('Casurina stricta :: Beefwood: Drooping She-Oak',), ('Ailanthus altissima :: Tree Of Heaven',), ('Metrosideros robusta :: Northern Rata Tree',), (\"Acacia baileyana 'Purpurea' :: Purple-leaf Acacia\",), ('Pinus muricata :: Bishop Pine',), ('Acer pseudoplatanus :: Sycamore Maple',), ('Salix babylonica :: Weeping Willow',), (\"Liquidambar styraciflua 'Festival' :: Festival Sweet Gum\",), ('Acacia cyclops :: Cyclops wattle',), ('Magnolia spp :: Magnolia',), ('Albizia distachya :: Plume Albizia Tree',), (\"Ginkgo biloba 'Fairmont' :: Fairmont Ginkgo\",), ('Persea indica :: Indian Bay',), ('Syringa :: Lilac Tree',), ('Private shrub :: Private Shrub',), ('Metasequoia glyplostroboides :: Dawn Redwood',), ('Podocarpus henkelii :: Long-Leafed Yellow-Wood',), (\"Prunus x yedoensis 'Akebono' :: Daybreak Yoshino Cherry\",), ('Taxodium mucronatum :: Montezuma Cypress',), ('Arecastrum romanzoffianum :: Queen Palm',), (\"Leucadendron 'Gold Strike' :: Yellow conebush\",), (\"Ginkgo biloba 'Princeton Sentry' :: Princeton Sentry Maidenhair\",), ('Cedrus atlantica Glauca :: Blue Atlas Cedar',), ('Ficus carica :: Edible Fig',), ('Gleditsia triacanthos :: Honey Locust',), ('Eucalyptus microtheca :: Flooded Box: Coolibah',), (\"Pyracantha  'Santa Cruz' :: Firethorn Tree 'Santa Cruz'\",), (\"Prunus serrulata 'Akebono' :: 'Akebono' Cherry\",), (\"Leptospermum scoparium  'Helene Strybing' :: Helene Strybing New Zealand Tea Tree\",), ('Morus alba :: White Mulberry',), ('Fagus sylvatica :: European Beech',), (\"Acer palmatum 'Bloodgood' :: Bloodgood Japanese Maple\",), ('Tibochina urvilleana :: Princess Flower',), ('Ficus laurel ::',), ('Liquidambar orientalis :: Oriental Sweet Gum',), ('Aloe barberae :: Tree aloe',), ('Ligustrum ovalifolium :: California privet',), ('Howea forsteriana :: Kentia Palm',), ('Cornus florida :: Eastern Dogwood',), ('Acacia cognata :: River Wattle',), ('Picea Spp :: Spruce Spp',), ('Eucalyptus lehmanni :: Bushy Yate',), (\"Platanus x hispanica 'Bloodgood' :: Bloodgood London Plane\",), ('Prunus lyonii :: Catalina Cherry',), ('Quercus coccinea :: Scarlet Oak',), ('Chitalpa tashkentensis ::',), ('Chamaecyparis species ::',), ('Hakea laurina :: Sea Urchin Tree',), ('Crateagus spp :: Hawthorn',), ('Quercus rubra :: Red Oak',), ('Corymbia citriodora :: Lemon Scented Gum',), ('Acacia iteaphylla :: Willow wattle',), ('Pinus coulteri :: Coulter pine',), ('Chorisia speciosa :: Silk Floss Tree',), ('Eucalyptus melliodora :: Yellow Box',), ('Dypsis cabadae :: Cabada palm',), (\"Eucalyptus leucoxylon mac 'Rosea' :: Yellow Gum\",), (\"Ulmus parvifolia 'Sempervirens' :: Weeping Chinese Elm\",), ('Eucalyptus pulverulenta :: Silver Mountain Gum Tree',), ('Dicksonia antarctica :: Soft Tree Fern',), ('Phoenix reclinata :: Senegal date palm',), ('Celtis occidentalis :: Common Hackberry',), (\"Fraxinus americana 'Autumn Purple' :: American Autumn Purple Ash\",), (\"Acer rubrum 'Autumn Glory' :: Red Maple Tree 'Autumn Glory'\",), ('Alnus cordata :: Italian Alder',), ('Eucalyptus viminalis :: Manna Gum',), ('Juglans nigra :: Eastern black walnut',), ('Viburnum odoratissimum var. awabuki :: Sweet viburnum',), (\"Prunus serrulata 'Amanagawa' :: Flowering Cherry Tree 'Amanagawa'\",), ('Malus sylvestris :: Apple',), ('Betula nigra :: River Birch',), (\"Crataegus laevigata 'Paul's Scarlet' :: Paul's Scarlet Hawthorn\",), ('Quercus robur :: English Oak',), ('Myrica californica :: Pacific Wax Myrtle Tree',), ('Populus spp :: Poplar Spp',), ('Fraxinus x Moraine :: Moraine Ash',), ('Magnolia x soulangiana :: Saucer Magnolia',), ('Populus alba :: White Poplar',), (\"Prunus domestica 'Santa Rosa' :: Santa Rosa Plum\",), ('Heteromeles arbutifolia :: Toyon',), ('Solanum rantonnetti ::',), ('Cussonia spicata :: Cabbage tree',), (\"Punica granatum 'Wonderfu :: Pomegranate Tree 'Wonderful'\",), (\"Salix matsudana 'Tortuosa' :: Corkscrew Willow\",), ('Sambucus mexicana :: Blue Elderberry',), (\"Arctostaphylos manzanita 'Dr Hurd' :: Dr. Hurd Manzanita\",), ('Paulownia fortunei :: Dragon tree',), ('Cornus SPP :: Dogwood',), ('Magnolia x alba :: White Champaca',), (\"Prunus spp 'Purpurea' :: Cherry Plum\",), ('Fraxinus velutina :: Modesto Ash',), (\"Liquidambar styraciflua 'Palo Alto' :: Palo Alto Sweet Gum\",), ('Prunus ilicifoia :: Holly-leaved Cherry',), ('Juglans californica :: Walnut: Black (s.calif)',), ('Lithocarpus densiflorus :: Tan Oak',), (\"Citrus aurantifolia 'Bearss' :: Seedless Lime\",), ('Fremontodendron spp :: Flannel Bush Tree',), (\"Gleditsia triacanthos 'Shademaster' :: Honey Locust 'Shademaster'\",), (\"Ulmus propinqua 'Emerald Sunshine' :: Emerald Sunshine Elm\",), ('Diospyros kaki :: Persimmon',), (\"Prunus serrulata 'Double Pink Weeping' :: Weeping Double Pink Flowering Cherry\",), (\"Prunus x 'Amanogawa' :: Flowering Cherry\",), ('Pinus strobus :: Eastern white pine',), ('Araucaria araucana :: Monkey puzzle',), (\"Acer platanoides 'Crimson King' :: Norway maple\",), ('Brahea aramata :: Mexican Blue Palm',), ('Corynocarpus laevigata :: New Zealand Laurel',), ('Morus rubra :: Red mulbeerry',), (\"Pyrus calleryana 'Capital' :: Ornamental Pear Tree 'Capital'\",), (\"Cercis canadensis 'Forest Pansy' :: Forest Pansy Redbud\",), ('Umbellularia californica :: California Bay',), (\"Ulmus parvifolia 'Athena' :: Chinese Elm 'Athena'\",), (\"Malus x 'Callaway' :: White-Flowered Crabapple\",), ('Tilia spp :: Linden',), ('Sequoiadendron giganteum :: Sierra Redwood',), ('Acer negundo :: Box Elder',), ('Corymbia calophylla ::',), ('Crinodendron patagua :: Lily-of-the-Valley Tree',), ('Thuja plicata :: Western Red Cedar',), (\"Metrosideros excelsa 'Aurea' ::\",), ('Fraxinus holotricha :: Holotricha Ash',), (\"Gleditsia triacanthos 'Sunburst' :: Sunburst Honey Locust\",), ('Prunus campanulata :: Taiwan Flowering Cherry',), (\"Citrus × meyeri 'Improved' :: Improved Meyer Lemon\",), ('Acca sellowiana :: Pineapple Guava Tree',), ('Jubaea chilensis :: Chilean Wine Palm',), (\"Ginkgo biloba 'Autumn Sentinel' :: Autumn Sentinel Ginkgo\",), ('Fraxinus ornus :: Flowering Ash',), ('Quercus lobata :: Valley Oak',), (\"Pyrus calleryana 'Redspire' :: Ornamental Pear Tree 'Redspire'\",), ('Persea borbonia :: False Avocado',), ('New Zealand Tea Tree :: New Zealand Tea Tree',), ('Leucodendron argenteum :: Silver Tree',), ('Brachychiton populneus :: Bottle Tree',), ('Populus canadensis :: Canadian Poplar',), ('Pinus contorta :: Shore Pine',), ('Styphnolobium japonicum :: Chinese scholar tree',), (\"Ficus microcarpa 'Retusa' :: Pot Belly Fig\",), (\"Zelkova serrata 'Village Green' :: Village Green Zelkova\",), ('Juglans hindsii :: Walnut: Black (n.calif)',), ('Eucalyptus rudis :: Swamp Gum: Flooded Gum',), (\"Lagerstroemia indica 'Tuscarora' :: Tuscarora Crape Myrtle\",), ('Chamaecyparis obtusa :: Hinoki cypress',), (\"Cornus nuttallii x florida 'Eddie's White Wonder' :: Eddie's White Wonder Dogwood\",), ('Cercocarpus betuloides :: Mountain mahogany',), ('Livistona chinensis :: Chinese fan palm',), ('Rhopalostylis baueri :: Palm',), (\"Cotinus coggygria 'Royal Purple' :: Smoke tree\",), ('Eucalyptus cinerea :: Ash-colored Eucalyptus',), ('Ziziphus jujuba :: Jujube',), (\"Magnolia sargentiana 'Robusta' :: Robusta Magnolia\",), ('Catalpa speciosa :: Northern Catalpa',), (\"Sophora japonica 'Regent' :: Regent Scholar Tree\",), (\"Malus 'Gala' :: Apple Tree 'Gala'\",), ('Populus trichocarpa :: Black Cottonwood Poplar',), ('Ilex opaca :: American Holly',), ('Salix lasiolepis :: Arroyo willow',), ('Cedrela fissilis :: Argentine cedar',), (\"Fagus sylvatica 'Red Obelisk' :: Red Obelisk Beech\",), (\"Acer x 'Autumn Blaze' :: Hybrid Maple\",), ('Juglans regia :: Walnut: English',), ('Eucalyptus saligna :: Sidney Blue Gum',), ('Prunus amygdalus :: Almond',), ('Quercus douglasii :: Blue Oak',), ('Musa spp :: Banana',), ('Quercus alba :: White oak',), ('Cryptomeria japonica :: Japanese Cryptomeria',), (\"Carpinus betulus 'Fastigiata' :: Upright European Hornbeam\",), ('Salix discolor :: Pussy Willow',), ('Schinus polygamus :: Chilean pepper tree',), ('Brachychiton acerifolius :: Australian Flame Tree',), ('Phoenix rupicola :: Cliff date palm',), ('Rhamnus californica :: Coffeeberry Tree',), ('Escallonia bifida :: White escallonia',), (\"Prunus domestica 'Green Gage' :: Green Gage Plum\",), (\"Ginkgo biloba 'Saratoga' :: Ginkgo: Saratoga\",), ('Brachychiton discolor ::',), ('Aesculus hippocastanum :: White Horsechestnut',), (\"Malus floribunda 'Prairie Fire' :: Prairie Fire Crabapple Tree\",), ('Erythrina caffra :: Coral tree',), ('Leptospermum quinquenervia :: Tea Tree',), ('Xylosma congestum :: Brush holly',), (\"Acer x freemanii 'Autumn Blaze' :: Autumn Blaze Freeman Maple\",), ('Wodyetia bifurcata :: Foxtail palm',), ('Melia azerdarach :: Chinaberry',), (\"Garrya elliptica 'Evie' :: Evie Coast Silktassel Tree\",), ('Juniperus californica :: California juniper',), (\"Juglans 'Paradox' :: Paradox Walnut Tree 'Paradox'\",), (\"Caryota maxima 'Himalaya' :: Himalayan Fishtail Palm\",), (\"Callistemon 'Jeffers' :: Purple bottlebrush\",), ('Phoenix roebelenii :: Pigmy Date Palm',), (\"Robinia x ambigua 'Idahoensis' :: Idaho Pink Locust\",), (\"Ficus carica 'Black Mission' :: Black Mission Fig\",), (\"Prunus cerasifera 'Thundercloud' :: Purple-Leaf Plum 'Thundercloud'\",), (\"Magnolia x foggii 'Jack Fogg' :: Jack Fogg Michelia\",), (\"Magnolia doltsopa 'Silvercloud' :: Silvercloud Magnolia\",), ('Radermachera sinica :: China Doll Tree',), ('Araucaria bidwillii :: Bunya Bunya',), ('Brahea brandegeei :: San Jose hesper palm',), ('Meryta sinclairii :: Puka or puke tree',), ('Pinus sylvestris :: Scots Pine',), ('Yucca spp :: Yucca',), ('Brahea armata :: Blue hesper palm',), ('Fraxinus angustifolia :: Narrow-leaved Ash',), (\"Prunus subhirtella 'autumnalis' :: Higan Cherry\",), ('Abutilon hybridum :: Flowering maple',), ('Auranticarpa rhombifolia :: Queensland Pittosporum',), ('Chamaecyparis lawsoniana :: Port Orford Cedar',), (\"Robinia pseudoacacia 'Umbraculifera' :: Globe Locust\",), ('Yucca aloifolia :: Spanish bayonet',), ('Pinus pinaster :: Maritime Pine',), ('Brachychiton rupestris :: Narrow-leaf bottle tree',), (\"Quercus frainetto 'Trump' :: Hungarian Oak\",), (\"Rhamnus alaternus 'John Edwards' :: John Edwards Buckthorn\",), (\"Persea americana 'Stewart' :: Stewart Avocado\",), ('Mangifera indica :: Mango',), (\"Pinus thunbergii 'Thunderhead' :: Thunderhead Pine\",), (\"Liquidambar styraciflua 'Burgundy' :: Burgundy Sweet Gum\",), ('Beaucarnea recurvata :: Ponytail palm',), ('Rhopalostylis sapida :: Nikau palm',), ('Alnus rubra :: Red Alder',), ('Chionanthus retusa :: Chinese Fringe Tree',), (\"Magnolia x soulangiana 'Rustica Rubra' :: Chinese Magnolia\",), ('Phoenix spp :: Date palm (species unknown)',), ('Quercus engelmannii :: Engelmann oak',), (\"Pyrus calleryana 'Cleveland' :: Ornamental Pear Tree 'Cleveland'\",), ('Quercus keloggii :: California Black Oak',), (\"Fraxinus uhdei 'Tomlinson' :: Tomlinson Ash\",), ('Leptospermum petersonii :: Lemon Scented Tea Tree',), (\"Arbutus unedo 'Compacta' :: Dwarf strawberry tree\",), ('Aesculus spp :: Horsechestnut',), ('Liquidambar formosana :: Chinese Sweet Gum',), (\"Eucalyptus simmondsi :: Simmond's Peppermint\",), (\"Lagerstroemia indica 'Natchez' :: Natchez Crape Myrtle\",), ('Ulmus procera :: English Elm',), ('Sophora japonica :: Japanese Pagoda',), ('Prunus lusitanica :: Portugese Cherry Laurel',), ('Eucalyptus longifolia :: Woollybutt',), ('Moringa oleifera :: Drumstick tree',), (\"Garrya elliptica 'James Roof' :: James Roof Coast Silktassel Tree\",), ('Prunus serrula :: Birchbark Cherry',), ('Prunus sargentii :: Sargent Cherry',), ('Fortunella margarita :: Kumquat',), (\"Magnolia grandiflora 'Timeless Beauty' :: Timeless Beauty Southern Magnolia\",), ('Angohpora spp. :: Angophora species',), ('Torreya californica :: California nutmeg',), ('Macadamia tetraphylla :: Macadamia',), ('Ulmus glabra :: Scotch Elm',), ('Citrus x hystrix :: Kaffir lime',), ('Castanea dentata :: American Chestnut',), ('Melaleuca leucadendron :: Weeping Tea Tree',), ('Corylus colurna :: Hazel: Turkish',), ('Acer saccharum :: Sugar Maple',), ('Acer tegmentosum :: Manchurian snakebark maple',), (\"Leptospermum scoparium 'Snow White' :: New Zealand White Tea Tree\",), ('Styrax japonicus :: Japanese Snowdrop Tree',), ('Quercus wislizenii :: Interior Live Oak',), (\"Lagerstroemia x 'Tuscarora' :: Tuscarora Crape Myrtle\",), ('Acacia vestita :: Hairy wattle',), ('Acacia dealbata :: Silver Wattle',), ('Paulownia tomentosa :: Empress Tree',), ('Ceanothus thyrsiflorus :: Blueblossom Ceanothus',), ('Acer circinatum :: Vine Maple',), ('Sorbus aucuparia :: European Mountain Ash Tr',), (\"Juniperus scopulorum 'Pat :: Juniper Tree 'Pathfinder'\",), (\"Liquidambar styraciflua 'Slender Silhoutte' :: Upright Liquidambar\",), ('Eucalyptus odorata :: Peppermint Box',), ('Stenocarpus sinuatus :: Firewheel tree',), ('Acer campestre :: Hedge Maple',), ('Geijera spp :: Geijera',), ('x Chiranthofremontia lenzii :: Hybrid Monkey Hand Tree',), ('Pinus torreyana :: Torrey Pine',), ('Carya illinoensis :: Pecan',), ('Cedrus libani :: Lebanon cedar',), ('Arbutus menziesii :: Pacific Madrone',), ('Metrosideros spp ::',), ('Euphorbia ingens :: Candelabra tree',), ('Eucalyptus torquata :: Coral Gum',), (\"Gleditsia triacanthos 'Aurea' :: Honey Locust 'Aurea'\",), (\"Tilia americana 'Redmond' :: Redmond Linden\",), ('Dypsis decaryi :: Triangle palm',), ('Platanus orientalis :: Eastern Plane Tree',), ('Rhus typhina :: Staghorn sumac',), ('Acer paxii :: Evergreen Maple',), ('Eucalyptus gunnii :: Cider Gum',), ('Populus deltoides :: Eastern cottonwood',), (\"Ficus carica 'Brown Turkey' :: Brown Turkey Fig\",), (\"Fraxinus velutina 'Modesto' :: Modesto Ash Tree 'Modesto'\",), ('Acer platanoides :: Norway Maple',), (\"Ulmus parvifolia 'True Green' :: True Green Chinese Elm\",), (\"Pyrus x 'Bartlett' :: Bartlett Pear\",), ('Lagerstroemia spp :: Crape myrtle species',), (':: To Be Determine',), (\"Prunus sargentii 'Columnaris' :: Sargent Cherry Tree 'Columnaris'\",), ('Cercidiphyllum japonicum :: Katsura tree',), (\"Acer palmatum 'Sango Kaku' :: Coral Bark Maple\",), ('Cassia excelsa :: Crown of Gold Tree',), ('Callistemon salignus :: White flowering bottlebrush',), (\"Pyrus pyrifolia '20th Century' :: Asian Pear '20th Century'\",), ('Prunus persica nectarina :: Flowering Nectarine Tree',)]\u001b[0m\u001b[32;1m\u001b[1;3mThere are 310 different species of trees in San Francisco.\u001b[0m\n",
      "\n",
      "\u001b[1m> Finished chain.\u001b[0m\n"
     ]
    },
    {
     "data": {
      "text/plain": [
       "'There are 310 different species of trees in San Francisco.'"
      ]
     },
     "execution_count": 32,
     "metadata": {},
     "output_type": "execute_result"
    }
   ],
   "source": [
    "agent_executor = create_sql_agent(llm, db=db, agent_type=\"openai-tools\", verbose=True)\n",
    "agent_executor.run(\"How many Species of trees are there in San Francisco?\")"
   ]
  },
  {
   "cell_type": "markdown",
   "id": "06226a9a-1a8f-40a6-a2f2-e5516547e080",
   "metadata": {},
   "source": [
    "Kiểm tra lại với pandas"
   ]
  },
  {
   "cell_type": "code",
   "execution_count": 36,
   "id": "762fd59a-9acd-4978-a952-bdd30b0a34d7",
   "metadata": {
    "execution": {
     "iopub.execute_input": "2025-01-15T14:57:12.724538Z",
     "iopub.status.busy": "2025-01-15T14:57:12.724193Z",
     "iopub.status.idle": "2025-01-15T14:57:12.761800Z",
     "shell.execute_reply": "2025-01-15T14:57:12.761107Z",
     "shell.execute_reply.started": "2025-01-15T14:57:12.724516Z"
    }
   },
   "outputs": [
    {
     "data": {
      "text/plain": [
       "578"
      ]
     },
     "execution_count": 36,
     "metadata": {},
     "output_type": "execute_result"
    }
   ],
   "source": [
    "df[\"qSpecies\"].nunique()"
   ]
  },
  {
   "cell_type": "markdown",
   "id": "783833f9-a40c-484b-951b-b4e3968c5752",
   "metadata": {},
   "source": [
    "## Pandas AI"
   ]
  },
  {
   "cell_type": "code",
   "execution_count": 1,
   "id": "0fceff3a-f456-4f00-aaf0-08beef8a5944",
   "metadata": {
    "execution": {
     "iopub.execute_input": "2025-01-15T21:24:12.204330Z",
     "iopub.status.busy": "2025-01-15T21:24:12.204018Z",
     "iopub.status.idle": "2025-01-15T21:25:27.210477Z",
     "shell.execute_reply": "2025-01-15T21:25:27.209607Z",
     "shell.execute_reply.started": "2025-01-15T21:24:12.204308Z"
    }
   },
   "outputs": [],
   "source": [
    "%%capture\n",
    "!pip install pandasai\n",
    "!pip install pandasai[langchain]"
   ]
  },
  {
   "cell_type": "code",
   "execution_count": 7,
   "id": "495c2044-f459-4fab-b16c-572d56c379e4",
   "metadata": {
    "execution": {
     "iopub.execute_input": "2025-01-15T21:30:54.123383Z",
     "iopub.status.busy": "2025-01-15T21:30:54.123029Z",
     "iopub.status.idle": "2025-01-15T21:30:56.110858Z",
     "shell.execute_reply": "2025-01-15T21:30:56.110047Z",
     "shell.execute_reply.started": "2025-01-15T21:30:54.123359Z"
    }
   },
   "outputs": [],
   "source": [
    "%%capture\n",
    "!pip install langchain_openai"
   ]
  },
  {
   "cell_type": "code",
   "execution_count": 10,
   "id": "8e48b9f1-51c5-4c41-9c79-2c0143711ffd",
   "metadata": {
    "execution": {
     "iopub.execute_input": "2025-01-15T21:32:28.312573Z",
     "iopub.status.busy": "2025-01-15T21:32:28.312255Z",
     "iopub.status.idle": "2025-01-15T21:32:28.379086Z",
     "shell.execute_reply": "2025-01-15T21:32:28.377673Z",
     "shell.execute_reply.started": "2025-01-15T21:32:28.312550Z"
    }
   },
   "outputs": [
    {
     "ename": "ImportError",
     "evalue": "cannot import name 'LangSmithParams' from 'langchain_core.language_models.chat_models' (/opt/saturncloud/envs/saturn/lib/python3.11/site-packages/langchain_core/language_models/chat_models.py)",
     "output_type": "error",
     "traceback": [
      "\u001b[0;31m---------------------------------------------------------------------------\u001b[0m",
      "\u001b[0;31mImportError\u001b[0m                               Traceback (most recent call last)",
      "Cell \u001b[0;32mIn[10], line 1\u001b[0m\n\u001b[0;32m----> 1\u001b[0m \u001b[38;5;28;01mfrom\u001b[39;00m \u001b[38;5;21;01mlangchain_openai\u001b[39;00m \u001b[38;5;28;01mimport\u001b[39;00m OpenAI\n",
      "File \u001b[0;32m/opt/saturncloud/envs/saturn/lib/python3.11/site-packages/langchain_openai/__init__.py:1\u001b[0m\n\u001b[0;32m----> 1\u001b[0m \u001b[38;5;28;01mfrom\u001b[39;00m \u001b[38;5;21;01mlangchain_openai\u001b[39;00m\u001b[38;5;21;01m.\u001b[39;00m\u001b[38;5;21;01mchat_models\u001b[39;00m \u001b[38;5;28;01mimport\u001b[39;00m AzureChatOpenAI, ChatOpenAI\n\u001b[1;32m      2\u001b[0m \u001b[38;5;28;01mfrom\u001b[39;00m \u001b[38;5;21;01mlangchain_openai\u001b[39;00m\u001b[38;5;21;01m.\u001b[39;00m\u001b[38;5;21;01membeddings\u001b[39;00m \u001b[38;5;28;01mimport\u001b[39;00m AzureOpenAIEmbeddings, OpenAIEmbeddings\n\u001b[1;32m      3\u001b[0m \u001b[38;5;28;01mfrom\u001b[39;00m \u001b[38;5;21;01mlangchain_openai\u001b[39;00m\u001b[38;5;21;01m.\u001b[39;00m\u001b[38;5;21;01mllms\u001b[39;00m \u001b[38;5;28;01mimport\u001b[39;00m AzureOpenAI, OpenAI\n",
      "File \u001b[0;32m/opt/saturncloud/envs/saturn/lib/python3.11/site-packages/langchain_openai/chat_models/__init__.py:1\u001b[0m\n\u001b[0;32m----> 1\u001b[0m \u001b[38;5;28;01mfrom\u001b[39;00m \u001b[38;5;21;01mlangchain_openai\u001b[39;00m\u001b[38;5;21;01m.\u001b[39;00m\u001b[38;5;21;01mchat_models\u001b[39;00m\u001b[38;5;21;01m.\u001b[39;00m\u001b[38;5;21;01mazure\u001b[39;00m \u001b[38;5;28;01mimport\u001b[39;00m AzureChatOpenAI\n\u001b[1;32m      2\u001b[0m \u001b[38;5;28;01mfrom\u001b[39;00m \u001b[38;5;21;01mlangchain_openai\u001b[39;00m\u001b[38;5;21;01m.\u001b[39;00m\u001b[38;5;21;01mchat_models\u001b[39;00m\u001b[38;5;21;01m.\u001b[39;00m\u001b[38;5;21;01mbase\u001b[39;00m \u001b[38;5;28;01mimport\u001b[39;00m ChatOpenAI\n\u001b[1;32m      4\u001b[0m __all__ \u001b[38;5;241m=\u001b[39m [\u001b[38;5;124m\"\u001b[39m\u001b[38;5;124mChatOpenAI\u001b[39m\u001b[38;5;124m\"\u001b[39m, \u001b[38;5;124m\"\u001b[39m\u001b[38;5;124mAzureChatOpenAI\u001b[39m\u001b[38;5;124m\"\u001b[39m]\n",
      "File \u001b[0;32m/opt/saturncloud/envs/saturn/lib/python3.11/site-packages/langchain_openai/chat_models/azure.py:22\u001b[0m\n\u001b[1;32m     20\u001b[0m \u001b[38;5;28;01mimport\u001b[39;00m \u001b[38;5;21;01mopenai\u001b[39;00m\n\u001b[1;32m     21\u001b[0m \u001b[38;5;28;01mfrom\u001b[39;00m \u001b[38;5;21;01mlangchain_core\u001b[39;00m\u001b[38;5;21;01m.\u001b[39;00m\u001b[38;5;21;01mlanguage_models\u001b[39;00m \u001b[38;5;28;01mimport\u001b[39;00m LanguageModelInput\n\u001b[0;32m---> 22\u001b[0m \u001b[38;5;28;01mfrom\u001b[39;00m \u001b[38;5;21;01mlangchain_core\u001b[39;00m\u001b[38;5;21;01m.\u001b[39;00m\u001b[38;5;21;01mlanguage_models\u001b[39;00m\u001b[38;5;21;01m.\u001b[39;00m\u001b[38;5;21;01mchat_models\u001b[39;00m \u001b[38;5;28;01mimport\u001b[39;00m LangSmithParams\n\u001b[1;32m     23\u001b[0m \u001b[38;5;28;01mfrom\u001b[39;00m \u001b[38;5;21;01mlangchain_core\u001b[39;00m\u001b[38;5;21;01m.\u001b[39;00m\u001b[38;5;21;01mmessages\u001b[39;00m \u001b[38;5;28;01mimport\u001b[39;00m BaseMessage\n\u001b[1;32m     24\u001b[0m \u001b[38;5;28;01mfrom\u001b[39;00m \u001b[38;5;21;01mlangchain_core\u001b[39;00m\u001b[38;5;21;01m.\u001b[39;00m\u001b[38;5;21;01moutputs\u001b[39;00m \u001b[38;5;28;01mimport\u001b[39;00m ChatResult\n",
      "\u001b[0;31mImportError\u001b[0m: cannot import name 'LangSmithParams' from 'langchain_core.language_models.chat_models' (/opt/saturncloud/envs/saturn/lib/python3.11/site-packages/langchain_core/language_models/chat_models.py)"
     ]
    }
   ],
   "source": [
    "from langchain_openai import OpenAI"
   ]
  },
  {
   "cell_type": "code",
   "execution_count": 11,
   "id": "72bf4d60-e726-4de9-ab13-9a7a84c5b350",
   "metadata": {
    "execution": {
     "iopub.execute_input": "2025-01-15T21:32:32.310722Z",
     "iopub.status.busy": "2025-01-15T21:32:32.310413Z",
     "iopub.status.idle": "2025-01-15T21:32:33.562077Z",
     "shell.execute_reply": "2025-01-15T21:32:33.561116Z",
     "shell.execute_reply.started": "2025-01-15T21:32:32.310700Z"
    }
   },
   "outputs": [
    {
     "name": "stdout",
     "output_type": "stream",
     "text": [
      "Name: langchain\n",
      "Version: 0.1.20\n",
      "Summary: Building applications with LLMs through composability\n",
      "Home-page: https://github.com/langchain-ai/langchain\n",
      "Author: \n",
      "Author-email: \n",
      "License: MIT\n",
      "Location: /opt/saturncloud/envs/saturn/lib/python3.11/site-packages\n",
      "Requires: aiohttp, dataclasses-json, langchain-community, langchain-core, langchain-text-splitters, langsmith, numpy, pydantic, PyYAML, requests, SQLAlchemy, tenacity\n",
      "Required-by: \n",
      "Note: you may need to restart the kernel to use updated packages.\n"
     ]
    }
   ],
   "source": [
    "pip show langchain"
   ]
  },
  {
   "cell_type": "code",
   "execution_count": null,
   "id": "f805eb32-7f28-4498-8784-7fa5e998219b",
   "metadata": {
    "execution": {
     "iopub.execute_input": "2025-01-15T21:29:05.651630Z",
     "iopub.status.busy": "2025-01-15T21:29:05.651317Z",
     "iopub.status.idle": "2025-01-15T21:29:10.000150Z",
     "shell.execute_reply": "2025-01-15T21:29:09.998784Z",
     "shell.execute_reply.started": "2025-01-15T21:29:05.651606Z"
    }
   },
   "outputs": [
    {
     "ename": "ImportError",
     "evalue": "cannot import name 'LangSmithParams' from 'langchain_core.language_models.chat_models' (/opt/saturncloud/envs/saturn/lib/python3.11/site-packages/langchain_core/language_models/chat_models.py)",
     "output_type": "error",
     "traceback": [
      "\u001b[0;31m---------------------------------------------------------------------------\u001b[0m",
      "\u001b[0;31mImportError\u001b[0m                               Traceback (most recent call last)",
      "Cell \u001b[0;32mIn[3], line 2\u001b[0m\n\u001b[1;32m      1\u001b[0m \u001b[38;5;28;01mfrom\u001b[39;00m \u001b[38;5;21;01mpandasai\u001b[39;00m \u001b[38;5;28;01mimport\u001b[39;00m SmartDataframe\n\u001b[0;32m----> 2\u001b[0m \u001b[38;5;28;01mfrom\u001b[39;00m \u001b[38;5;21;01mlangchain_openai\u001b[39;00m \u001b[38;5;28;01mimport\u001b[39;00m OpenAI\n\u001b[1;32m      4\u001b[0m langchain_llm \u001b[38;5;241m=\u001b[39m OpenAI(openai_api_key)\n",
      "File \u001b[0;32m/opt/saturncloud/envs/saturn/lib/python3.11/site-packages/langchain_openai/__init__.py:1\u001b[0m\n\u001b[0;32m----> 1\u001b[0m \u001b[38;5;28;01mfrom\u001b[39;00m \u001b[38;5;21;01mlangchain_openai\u001b[39;00m\u001b[38;5;21;01m.\u001b[39;00m\u001b[38;5;21;01mchat_models\u001b[39;00m \u001b[38;5;28;01mimport\u001b[39;00m AzureChatOpenAI, ChatOpenAI\n\u001b[1;32m      2\u001b[0m \u001b[38;5;28;01mfrom\u001b[39;00m \u001b[38;5;21;01mlangchain_openai\u001b[39;00m\u001b[38;5;21;01m.\u001b[39;00m\u001b[38;5;21;01membeddings\u001b[39;00m \u001b[38;5;28;01mimport\u001b[39;00m AzureOpenAIEmbeddings, OpenAIEmbeddings\n\u001b[1;32m      3\u001b[0m \u001b[38;5;28;01mfrom\u001b[39;00m \u001b[38;5;21;01mlangchain_openai\u001b[39;00m\u001b[38;5;21;01m.\u001b[39;00m\u001b[38;5;21;01mllms\u001b[39;00m \u001b[38;5;28;01mimport\u001b[39;00m AzureOpenAI, OpenAI\n",
      "File \u001b[0;32m/opt/saturncloud/envs/saturn/lib/python3.11/site-packages/langchain_openai/chat_models/__init__.py:1\u001b[0m\n\u001b[0;32m----> 1\u001b[0m \u001b[38;5;28;01mfrom\u001b[39;00m \u001b[38;5;21;01mlangchain_openai\u001b[39;00m\u001b[38;5;21;01m.\u001b[39;00m\u001b[38;5;21;01mchat_models\u001b[39;00m\u001b[38;5;21;01m.\u001b[39;00m\u001b[38;5;21;01mazure\u001b[39;00m \u001b[38;5;28;01mimport\u001b[39;00m AzureChatOpenAI\n\u001b[1;32m      2\u001b[0m \u001b[38;5;28;01mfrom\u001b[39;00m \u001b[38;5;21;01mlangchain_openai\u001b[39;00m\u001b[38;5;21;01m.\u001b[39;00m\u001b[38;5;21;01mchat_models\u001b[39;00m\u001b[38;5;21;01m.\u001b[39;00m\u001b[38;5;21;01mbase\u001b[39;00m \u001b[38;5;28;01mimport\u001b[39;00m ChatOpenAI\n\u001b[1;32m      4\u001b[0m __all__ \u001b[38;5;241m=\u001b[39m [\u001b[38;5;124m\"\u001b[39m\u001b[38;5;124mChatOpenAI\u001b[39m\u001b[38;5;124m\"\u001b[39m, \u001b[38;5;124m\"\u001b[39m\u001b[38;5;124mAzureChatOpenAI\u001b[39m\u001b[38;5;124m\"\u001b[39m]\n",
      "File \u001b[0;32m/opt/saturncloud/envs/saturn/lib/python3.11/site-packages/langchain_openai/chat_models/azure.py:22\u001b[0m\n\u001b[1;32m     20\u001b[0m \u001b[38;5;28;01mimport\u001b[39;00m \u001b[38;5;21;01mopenai\u001b[39;00m\n\u001b[1;32m     21\u001b[0m \u001b[38;5;28;01mfrom\u001b[39;00m \u001b[38;5;21;01mlangchain_core\u001b[39;00m\u001b[38;5;21;01m.\u001b[39;00m\u001b[38;5;21;01mlanguage_models\u001b[39;00m \u001b[38;5;28;01mimport\u001b[39;00m LanguageModelInput\n\u001b[0;32m---> 22\u001b[0m \u001b[38;5;28;01mfrom\u001b[39;00m \u001b[38;5;21;01mlangchain_core\u001b[39;00m\u001b[38;5;21;01m.\u001b[39;00m\u001b[38;5;21;01mlanguage_models\u001b[39;00m\u001b[38;5;21;01m.\u001b[39;00m\u001b[38;5;21;01mchat_models\u001b[39;00m \u001b[38;5;28;01mimport\u001b[39;00m LangSmithParams\n\u001b[1;32m     23\u001b[0m \u001b[38;5;28;01mfrom\u001b[39;00m \u001b[38;5;21;01mlangchain_core\u001b[39;00m\u001b[38;5;21;01m.\u001b[39;00m\u001b[38;5;21;01mmessages\u001b[39;00m \u001b[38;5;28;01mimport\u001b[39;00m BaseMessage\n\u001b[1;32m     24\u001b[0m \u001b[38;5;28;01mfrom\u001b[39;00m \u001b[38;5;21;01mlangchain_core\u001b[39;00m\u001b[38;5;21;01m.\u001b[39;00m\u001b[38;5;21;01moutputs\u001b[39;00m \u001b[38;5;28;01mimport\u001b[39;00m ChatResult\n",
      "\u001b[0;31mImportError\u001b[0m: cannot import name 'LangSmithParams' from 'langchain_core.language_models.chat_models' (/opt/saturncloud/envs/saturn/lib/python3.11/site-packages/langchain_core/language_models/chat_models.py)"
     ]
    }
   ],
   "source": [
    "langchain_llm = OpenAI(openai_api_key)"
   ]
  },
  {
   "cell_type": "code",
   "execution_count": null,
   "id": "ab01ff5c-fff5-4e0a-ace4-0d04ff210efd",
   "metadata": {},
   "outputs": [],
   "source": [
    "df = SmartDataframe(\"data.csv\", config={\"llm\": langchain_llm})"
   ]
  },
  {
   "cell_type": "code",
   "execution_count": 44,
   "id": "cfdcdc09-a0ae-4d41-8758-e8f057899e97",
   "metadata": {
    "execution": {
     "iopub.execute_input": "2025-01-15T15:13:34.349794Z",
     "iopub.status.busy": "2025-01-15T15:13:34.349474Z",
     "iopub.status.idle": "2025-01-15T15:13:34.356838Z",
     "shell.execute_reply": "2025-01-15T15:13:34.356122Z",
     "shell.execute_reply.started": "2025-01-15T15:13:34.349770Z"
    }
   },
   "outputs": [],
   "source": [
    "import os\n",
    "import pandas as pd\n",
    "from pandasai import Agent\n",
    "\n",
    "employees_data = {\n",
    "    'EmployeeID': [1, 2, 3, 4, 5],\n",
    "    'Name': ['John', 'Emma', 'Liam', 'Olivia', 'William'],\n",
    "    'Department': ['HR', 'Sales', 'IT', 'Marketing', 'Finance']\n",
    "}\n",
    "\n",
    "salaries_data = {\n",
    "    'EmployeeID': [1, 2, 3, 4, 5],\n",
    "    'Salary': [5000, 6000, 4500, 7000, 5500]\n",
    "}\n",
    "\n",
    "employees_df = pd.DataFrame(employees_data)\n",
    "salaries_df = pd.DataFrame(salaries_data)\n",
    "\n",
    "# By default, unless you choose a different LLM, it will use BambooLLM.\n",
    "# You can get your free API key signing up at https://pandabi.ai (you can also configure it in your .env file)\n",
    "os.environ[\"PANDASAI_API_KEY\"] = os.getenv('PANDASAI_API_KEY')"
   ]
  },
  {
   "cell_type": "code",
   "execution_count": 45,
   "id": "d7869aa8-9e01-4890-82be-252039651073",
   "metadata": {
    "execution": {
     "iopub.execute_input": "2025-01-15T15:13:37.529593Z",
     "iopub.status.busy": "2025-01-15T15:13:37.529268Z",
     "iopub.status.idle": "2025-01-15T15:13:38.027328Z",
     "shell.execute_reply": "2025-01-15T15:13:38.026521Z",
     "shell.execute_reply.started": "2025-01-15T15:13:37.529570Z"
    }
   },
   "outputs": [
    {
     "name": "stderr",
     "output_type": "stream",
     "text": [
      "Traceback (most recent call last):\n",
      "  File \"/opt/saturncloud/envs/saturn/lib/python3.11/site-packages/pandasai/pipelines/chat/generate_chat_pipeline.py\", line 335, in run\n",
      "    ).run(input)\n",
      "      ^^^^^^^^^^\n",
      "  File \"/opt/saturncloud/envs/saturn/lib/python3.11/site-packages/pandasai/pipelines/pipeline.py\", line 137, in run\n",
      "    raise e\n",
      "  File \"/opt/saturncloud/envs/saturn/lib/python3.11/site-packages/pandasai/pipelines/pipeline.py\", line 101, in run\n",
      "    step_output = logic.execute(\n",
      "                  ^^^^^^^^^^^^^^\n",
      "  File \"/opt/saturncloud/envs/saturn/lib/python3.11/site-packages/pandasai/pipelines/chat/prompt_generation.py\", line 37, in execute\n",
      "    self.logger.log(f\"Using prompt: {prompt}\")\n",
      "                    ^^^^^^^^^^^^^^^^^^^^^^^^^\n",
      "  File \"/opt/saturncloud/envs/saturn/lib/python3.11/site-packages/pandasai/prompts/base.py\", line 55, in __str__\n",
      "    return self.to_string()\n",
      "           ^^^^^^^^^^^^^^^^\n",
      "  File \"/opt/saturncloud/envs/saturn/lib/python3.11/site-packages/pandasai/prompts/base.py\", line 50, in to_string\n",
      "    self._resolved_prompt = self.prompt.render(**self.props)\n",
      "                            ^^^^^^^^^^^^^^^^^^^^^^^^^^^^^^^^\n",
      "  File \"/opt/saturncloud/envs/saturn/lib/python3.11/site-packages/jinja2/environment.py\", line 1304, in render\n",
      "    self.environment.handle_exception()\n",
      "  File \"/opt/saturncloud/envs/saturn/lib/python3.11/site-packages/jinja2/environment.py\", line 939, in handle_exception\n",
      "    raise rewrite_traceback_stack(source=source)\n",
      "  File \"/opt/saturncloud/envs/saturn/lib/python3.11/site-packages/pandasai/prompts/templates/generate_python_code.tmpl\", line 1, in top-level template code\n",
      "    {% for df in context.dfs %}{% set index = loop.index %}{% include 'shared/dataframe.tmpl' with context %}{% endfor %}\n",
      "    ^^^^^^^^^^^^^^^^^^^^^^^^^\n",
      "  File \"/opt/saturncloud/envs/saturn/lib/python3.11/site-packages/pandasai/prompts/templates/shared/dataframe.tmpl\", line 1, in top-level template code\n",
      "    {{ df.to_string(index-1, context.config.direct_sql, context.config.dataframe_serializer, context.config.enforce_privacy) }}\n",
      "    ^^^^^^^^^^^^^^^^^^^^^^^^^\n",
      "  File \"/opt/saturncloud/envs/saturn/lib/python3.11/site-packages/pandasai/connectors/base.py\", line 284, in to_string\n",
      "    return DataframeSerializer().serialize(\n",
      "           ^^^^^^^^^^^^^^^^^^^^^^^^^^^^^^^^\n",
      "  File \"/opt/saturncloud/envs/saturn/lib/python3.11/site-packages/pandasai/helpers/dataframe_serializer.py\", line 31, in serialize\n",
      "    return self.convert_df_to_csv(df, extras)\n",
      "           ^^^^^^^^^^^^^^^^^^^^^^^^^^^^^^^^^^\n",
      "  File \"/opt/saturncloud/envs/saturn/lib/python3.11/site-packages/pandasai/helpers/dataframe_serializer.py\", line 56, in convert_df_to_csv\n",
      "    dataframe_info += f\"\\ndfs[{extras['index']}]:{df.rows_count}x{df.columns_count}\\n{df.to_csv()}\"\n",
      "                                                                                      ^^^^^^^^^^^\n",
      "  File \"/opt/saturncloud/envs/saturn/lib/python3.11/site-packages/pandasai/connectors/base.py\", line 265, in to_csv\n",
      "    return self.get_head().to_csv(index=False)\n",
      "           ^^^^^^^^^^^^^^^^^^^^^^^^^^^^^^^^^^^\n",
      "  File \"/opt/saturncloud/envs/saturn/lib/python3.11/site-packages/pandas/util/_decorators.py\", line 333, in wrapper\n",
      "    # error: \"Callable[[VarArg(Any), KwArg(Any)], Any]\" has no\n",
      "               ^^^^^^^^^^^^^^^^^^^^^\n",
      "  File \"/opt/saturncloud/envs/saturn/lib/python3.11/site-packages/pandas/core/generic.py\", line 3967, in to_csv\n",
      "    class  animal  locomotion\n",
      "           ^^^^^^^^^^^^^^^^^^\n",
      "  File \"/opt/saturncloud/envs/saturn/lib/python3.11/site-packages/pandas/io/formats/format.py\", line 995, in to_csv\n",
      "    if self.header:\n",
      "                    \n",
      "  File \"/opt/saturncloud/envs/saturn/lib/python3.11/site-packages/pandas/io/formats/csvs.py\", line 89, in __init__\n",
      "    self.cols = self._initialize_columns(cols)\n",
      "                ^^^^^^^^^^^^^^^^^^^^^^^^^^^^^^\n",
      "  File \"/opt/saturncloud/envs/saturn/lib/python3.11/site-packages/pandas/io/formats/csvs.py\", line 161, in _initialize_columns\n",
      "    return new_cols._format_native_types(**self._number_format)\n",
      "           ^^^^^^^^^^^^^^^^^^^^^^^^^^^^^\n",
      "AttributeError: 'Index' object has no attribute '_format_native_types'\n"
     ]
    },
    {
     "data": {
      "text/plain": [
       "\"Unfortunately, I was not able to answer your question, because of the following error:\\n\\n'Index' object has no attribute '_format_native_types'\\n\""
      ]
     },
     "execution_count": 45,
     "metadata": {},
     "output_type": "execute_result"
    }
   ],
   "source": [
    "agent = Agent([employees_df, salaries_df])\n",
    "agent.chat(\"Who gets paid the most?\")"
   ]
  }
 ],
 "metadata": {
  "kernelspec": {
   "display_name": "saturn (Python 3)",
   "language": "python",
   "name": "python3"
  },
  "language_info": {
   "codemirror_mode": {
    "name": "ipython",
    "version": 3
   },
   "file_extension": ".py",
   "mimetype": "text/x-python",
   "name": "python",
   "nbconvert_exporter": "python",
   "pygments_lexer": "ipython3",
   "version": "3.11.10"
  }
 },
 "nbformat": 4,
 "nbformat_minor": 5
}
