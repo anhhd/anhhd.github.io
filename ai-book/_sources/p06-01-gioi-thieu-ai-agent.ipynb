{
 "cells": [
  {
   "cell_type": "markdown",
   "id": "c6bdaaf4",
   "metadata": {},
   "source": [
    "# Giới thiệu về AI Agent"
   ]
  },
  {
   "cell_type": "markdown",
   "id": "66e2611b",
   "metadata": {},
   "source": [
    "## Giới thiệu"
   ]
  },
  {
   "cell_type": "markdown",
   "id": "27862c67",
   "metadata": {},
   "source": [
    "`Agent` (tác nhân) không phải là một thuật ngữ mới, khi nói về Agent, ta thường  sử dụng để mô tả một phần mềm hoặc ứng dụng thực hiện một nhiệm vụ cụ thể thay cho người dùng."
   ]
  },
  {
   "cell_type": "markdown",
   "id": "6a6e61d3",
   "metadata": {},
   "source": [
    "Có thể chia làm 4 loại Agent như sau:\n",
    "\n",
    "- **No agent**: Người dùng tương tác trực tiếp với LLM và kết quả trả ra chỉ là các đoạn text được tạo ra từ LLM. Ví dụ - Chatbot trực tiếp từ ChatGPT ở giai đoạn đầu tiên. Loại Agent này không thể thực hiện tác vụ mà chỉ có thể tự tạo sinh ra kết quả tạo ra từ LLM.\n",
    "- **Agent/Assistant proxy**: Người dùng tương tác với proxy và AI sẽ trả ra 1 kết quả cụ thể. Ví dụ - Ứng dụng tạo ảnh từ Dalle hay Bing Imange Creator. Loại Agent này chỉ có thể làm 1 tác vụ duy nhất.\n",
    "- **Agent/Assitant**: Người dùng tương tác với Agent và AI có thể thực hiện kết quả nhưng đòi hỏi sự phê duyệt từ người dùng. Sau khi được phê duyệt, AI sẽ thực hiện 1 số tác vụ cụ thể, trả lại kết quả để LLM có thể đưa ra câu trả lời thân thiện với người dùng. Ví dụ - các agent có truy cập được với MCP (Model Context Protocol) như Claude\n",
    "- **Autonomous Agent**: Tự động hóa hoàn toàn các công việc thay cho con người, tư bước phân nhỏ các tác vụ,đánh giá và thực thi."
   ]
  },
  {
   "cell_type": "markdown",
   "id": "ac8309a5",
   "metadata": {},
   "source": [
    "![](image/p06-2025-07-21-11-15-12.png)"
   ]
  },
  {
   "cell_type": "markdown",
   "id": "96a06ce9",
   "metadata": {},
   "source": [
    "---"
   ]
  },
  {
   "cell_type": "markdown",
   "id": "737b213b",
   "metadata": {},
   "source": [
    "Multi-agent system có thể có nhiều agent độc lập làm việc và tương tác với nhau. VD - viết code vs tester"
   ]
  },
  {
   "cell_type": "markdown",
   "id": "765ec6bb",
   "metadata": {},
   "source": [
    "![](image/p06-2025-07-21-11-36-52.png)"
   ]
  },
  {
   "cell_type": "markdown",
   "id": "92078417",
   "metadata": {},
   "source": [
    "Mỗi agent cơ bản có 5 đặc điểm sau:\n",
    "- **Profile & Persona**: Đặc điểm của Agent, còn được gọi là `system prompt`, là các hướng dẫn cho agent cách thức hoàn thành nhiệm vụ, phản hồi yêu cầu người dùng,...\n",
    "- **Actions & Tools**: Các công cụ mà Agent có thể truy cập và sử dụng - ví dụ - khả năng tạo ảnh, thực hiện code, truy cập và tìm kiếm internet,...\n",
    "- **Memory & Knowledge**: Bộ nhớ và tri thức, bao gồm khả năng ghi nhớ lịch sử tương tác (bộ nhớ) và kho thông tin được quyền truy cập với các định dạng khác nhau như word, pdf, ... \n",
    "- **Reasoning & Evaluation**: Khả năng *suy nghĩ* và đánh giá giải pháp khác nhau\n",
    "- **Planning & Feedback**: Khả năng lập kế hoạch - có thể bao gồm cả việc yêu cầu feedback từ con người hoặc hoàn toàn tự động từ Agent."
   ]
  },
  {
   "cell_type": "markdown",
   "id": "8d9e37eb",
   "metadata": {},
   "source": [
    "![](image/p06-2025-07-21-11-38-57.png)"
   ]
  },
  {
   "cell_type": "markdown",
   "id": "0ea01df2",
   "metadata": {},
   "source": [
    "![](image/p06-2025-07-21-11-39-36.png)"
   ]
  },
  {
   "cell_type": "markdown",
   "id": "39169cef",
   "metadata": {},
   "source": [
    "![](image/p06-2025-07-21-11-40-12.png)"
   ]
  },
  {
   "cell_type": "markdown",
   "id": "ccf5a4a7",
   "metadata": {},
   "source": [
    "![](image/p06-2025-07-21-11-40-47.png)"
   ]
  },
  {
   "cell_type": "markdown",
   "id": "a6912420",
   "metadata": {},
   "source": [
    "![](image/p06-2025-07-21-11-41-00.png)"
   ]
  },
  {
   "cell_type": "markdown",
   "id": "daa908ef",
   "metadata": {},
   "source": [
    "![](image/p06-2025-07-21-11-48-48.png)"
   ]
  },
  {
   "cell_type": "markdown",
   "id": "82d27de3",
   "metadata": {},
   "source": [
    "---"
   ]
  },
  {
   "cell_type": "markdown",
   "id": "83755061",
   "metadata": {},
   "source": [
    "Với AI Agent, rất nhiều mảng công việc như dữ liệu, phát triển phần mềm có thể sẽ cần điều chỉnh và tái cấu trúc lại để cho phép sử dụng ngôn ngữ tự nhiên như là interface, cho phép tương tác với người dùng. Quá trình này sẽ tương tác với AI Interface (data, function & tool - external agent) để hoàn thành tác vụ cho người dùng."
   ]
  },
  {
   "cell_type": "markdown",
   "id": "95d7d176",
   "metadata": {},
   "source": [
    "![](image/p06-2025-07-21-12-01-55.png)"
   ]
  },
  {
   "cell_type": "markdown",
   "id": "46099074",
   "metadata": {},
   "source": [
    "## LLM & OpenAI API"
   ]
  },
  {
   "cell_type": "markdown",
   "id": "4eaee2a2",
   "metadata": {},
   "source": [
    "Các mô hình ngôn ngữ lớn (`Large Language Model`) được phát triển bằng cách sử dụng các thuật toán GPT (Generative Pretrained Transformers). Các mô hình hình sẽ được sử dụng để tạo ra các content mới từ các content trước đó. Các kết quả dự báo này có sự khác biệt so với các mô hình predictive/classification thông thường."
   ]
  },
  {
   "cell_type": "markdown",
   "id": "1e794c82",
   "metadata": {},
   "source": [
    "![](image/p06-2025-07-21-12-08-33.png)"
   ]
  },
  {
   "cell_type": "markdown",
   "id": "53d4b265",
   "metadata": {},
   "source": [
    "Bên cạnh đó, các mô hình LLM cũng có thể được tuning để tối ưu hóa hiệu quả sử dụng với một bộ dataset nhất đinh."
   ]
  },
  {
   "cell_type": "markdown",
   "id": "254a80ed",
   "metadata": {},
   "source": [
    "![](image/p06-2025-07-21-12-11-05.png)"
   ]
  },
  {
   "cell_type": "markdown",
   "id": "e6235841",
   "metadata": {},
   "source": [
    "![](image/p06-2025-07-21-12-13-42.png)"
   ]
  }
 ],
 "metadata": {
  "kernelspec": {
   "display_name": "Python 3",
   "language": "python",
   "name": "python3"
  },
  "language_info": {
   "name": "python",
   "version": "3.11.9"
  }
 },
 "nbformat": 4,
 "nbformat_minor": 5
}
